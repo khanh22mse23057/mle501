{
  "cells": [
    {
      "cell_type": "markdown",
      "metadata": {
        "id": "view-in-github",
        "colab_type": "text"
      },
      "source": [
        "<a href=\"https://colab.research.google.com/github/khanh22mse23057/mle501/blob/main/%5BMLE501_Assignment%5D_Job_placement_prediction_model_building.ipynb\" target=\"_parent\"><img src=\"https://colab.research.google.com/assets/colab-badge.svg\" alt=\"Open In Colab\"/></a>"
      ]
    },
    {
      "cell_type": "markdown",
      "metadata": {
        "id": "CT56K7YjEvn_"
      },
      "source": [
        "# Problem Statement\n",
        "\n",
        "**Context**: </br>\n",
        "Due to the growing need of educated and talented individuals, especially in developing countries, recruiting fresh graduates is a routine practice for organizations. Conventional recruiting methods and selection processes can be prone to errors and in order to optimize the whole process, some innovative methods are needed.\n",
        "\n",
        "Can we monitor past data and use machine learning to predict whether the candidate gets placed ?\n",
        "\n",
        "https://www.kaggle.com/datasets/ahsan81/job-placement-dataset\n"
      ],
      "id": "CT56K7YjEvn_"
    },
    {
      "cell_type": "markdown",
      "metadata": {
        "id": "9f33d279"
      },
      "source": [
        "## Importing Required Libraries"
      ],
      "id": "9f33d279"
    },
    {
      "cell_type": "code",
      "execution_count": 239,
      "metadata": {
        "colab": {
          "base_uri": "https://localhost:8080/"
        },
        "id": "kqWVeUHbGRWC",
        "outputId": "521bb2a3-674a-47d2-c002-38213b19caf9"
      },
      "outputs": [
        {
          "output_type": "stream",
          "name": "stdout",
          "text": [
            "Looking in indexes: https://pypi.org/simple, https://us-python.pkg.dev/colab-wheels/public/simple/\n",
            "Requirement already satisfied: kaggle in /usr/local/lib/python3.8/dist-packages (1.5.12)\n",
            "Requirement already satisfied: urllib3 in /usr/local/lib/python3.8/dist-packages (from kaggle) (1.26.14)\n",
            "Requirement already satisfied: tqdm in /usr/local/lib/python3.8/dist-packages (from kaggle) (4.64.1)\n",
            "Requirement already satisfied: six>=1.10 in /usr/local/lib/python3.8/dist-packages (from kaggle) (1.15.0)\n",
            "Requirement already satisfied: python-slugify in /usr/local/lib/python3.8/dist-packages (from kaggle) (8.0.1)\n",
            "Requirement already satisfied: python-dateutil in /usr/local/lib/python3.8/dist-packages (from kaggle) (2.8.2)\n",
            "Requirement already satisfied: requests in /usr/local/lib/python3.8/dist-packages (from kaggle) (2.25.1)\n",
            "Requirement already satisfied: certifi in /usr/local/lib/python3.8/dist-packages (from kaggle) (2022.12.7)\n",
            "Requirement already satisfied: text-unidecode>=1.3 in /usr/local/lib/python3.8/dist-packages (from python-slugify->kaggle) (1.3)\n",
            "Requirement already satisfied: chardet<5,>=3.0.2 in /usr/local/lib/python3.8/dist-packages (from requests->kaggle) (4.0.0)\n",
            "Requirement already satisfied: idna<3,>=2.5 in /usr/local/lib/python3.8/dist-packages (from requests->kaggle) (2.10)\n",
            "Cloning into 'utils-libs'...\n",
            "remote: Enumerating objects: 6, done.\u001b[K\n",
            "remote: Counting objects: 100% (6/6), done.\u001b[K\n",
            "remote: Compressing objects: 100% (6/6), done.\u001b[K\n",
            "remote: Total 6 (delta 2), reused 0 (delta 0), pack-reused 0\u001b[K\n",
            "Unpacking objects: 100% (6/6), 6.14 KiB | 3.07 MiB/s, done.\n"
          ]
        }
      ],
      "source": [
        "!pip install kaggle\n",
        "!git clone https://github.com/khanh22mse23057/utils-libs.git"
      ],
      "id": "kqWVeUHbGRWC"
    },
    {
      "cell_type": "code",
      "source": [
        "# This Python 3 environment comes with many helpful analytics libraries installed\n",
        "# It is defined by the kaggle/python docker image: https://github.com/kaggle/docker-python\n",
        "# For example, here's several helpful packages to load in \n",
        "\n",
        "import numpy as np # linear algebra\n",
        "import pandas as pd # data processing, CSV file I/O (e.g. pd.read_csv)\n",
        "\n",
        "# Input data files are available in the \"../input/\" directory.\n",
        "# For example, running this (by clicking run or pressing Shift+Enter) will list all files under the input directory\n",
        "\n",
        "import os\n",
        "for dirname, _, filenames in os.walk('/kaggle/input'):\n",
        "    for filename in filenames:\n",
        "        print(os.path.join(dirname, filename))"
      ],
      "metadata": {
        "id": "wua_6TYnFpPa"
      },
      "id": "wua_6TYnFpPa",
      "execution_count": 240,
      "outputs": []
    },
    {
      "cell_type": "code",
      "execution_count": 241,
      "metadata": {
        "colab": {
          "base_uri": "https://localhost:8080/"
        },
        "id": "7wkWnsnmGaYB",
        "outputId": "ee67a0e3-24b4-4217-a860-89ba85521d73"
      },
      "outputs": [
        {
          "output_type": "stream",
          "name": "stdout",
          "text": [
            "Downloading trabajos.zip to .\n",
            "\r  0% 0.00/3.58k [00:00<?, ?B/s]\n",
            "\r100% 3.58k/3.58k [00:00<00:00, 3.48MB/s]\n",
            "Archive:  ./trabajos.zip\n",
            "  inflating: ./kaggle/Job_Placement_Data.csv  \n",
            "['Job_Placement_Data.csv']\n"
          ]
        }
      ],
      "source": [
        "import os\n",
        "#Cấu hình secret key để xác thực truy cập đến Kaggle trên môi trường\n",
        "os.environ['KAGGLE_USERNAME'] = 'khanhphamnguyenphu'\n",
        "os.environ['KAGGLE_KEY'] = '0c2af5b3c1c6017e1f8476048cfe913c'\n",
        "\n",
        "\n",
        "if not os.path.exists('./kaggle/Job_Placement_Data.csv'):\n",
        "  !kaggle datasets download -d nicolsguerreroc/trabajos -p ./ # Download dữ liệu train từ Kaggle\n",
        "  !unzip  ./*.zip -d ./kaggle\n",
        "else:\n",
        "    print('File already exists, no need to download or unzip.')\n",
        "    \n",
        "print(os.listdir('./kaggle'))\n",
        "\n",
        "# !if [ -d ~/.kaggle ]; then rm -Rf ~/.kaggle; fi\n",
        "# !ls ./kaggle\n"
      ],
      "id": "7wkWnsnmGaYB"
    },
    {
      "cell_type": "code",
      "source": [
        "%cd utils-libs\n",
        "import glob\n",
        "file_list = glob.glob('*.py')\n",
        "\n",
        "import importlib\n",
        "for file in file_list:\n",
        "    module_name = file[:-3]  # remove the \".py\" extension\n",
        "    module = importlib.import_module(module_name)"
      ],
      "metadata": {
        "colab": {
          "base_uri": "https://localhost:8080/"
        },
        "id": "bUhfQmL-bvhb",
        "outputId": "80ba5a91-c709-47cb-ca58-d519575d0c7e"
      },
      "id": "bUhfQmL-bvhb",
      "execution_count": 242,
      "outputs": [
        {
          "output_type": "stream",
          "name": "stdout",
          "text": [
            "/content/utils-libs/utils-libs/utils-libs/utils-libs\n"
          ]
        }
      ]
    },
    {
      "cell_type": "code",
      "execution_count": 243,
      "metadata": {
        "id": "98e40f2d"
      },
      "outputs": [],
      "source": [
        "import numpy as np\n",
        "import pandas as pd\n",
        "import matplotlib.pyplot as plt\n",
        "\n",
        "import seaborn as sns\n",
        "import warnings\n",
        "warnings.filterwarnings('ignore')\n",
        "\n",
        "import sklearn\n",
        "import sklearn.datasets\n",
        "import scipy.io\n",
        "\n",
        "%matplotlib inline\n",
        "plt.rcParams['figure.figsize'] = (7.0, 5.0) # set default size of plots\n",
        "plt.rcParams['image.interpolation'] = 'nearest'\n",
        "plt.rcParams['image.cmap'] = 'gray'\n"
      ],
      "id": "98e40f2d"
    },
    {
      "cell_type": "markdown",
      "metadata": {
        "id": "6166f6f6"
      },
      "source": [
        "## Reading CSV Files"
      ],
      "id": "6166f6f6"
    },
    {
      "cell_type": "markdown",
      "metadata": {
        "id": "85kGKVCO_CXA"
      },
      "source": [
        "This file contains different attribute of the candidates educational history and work experience. The detailed data dictionary is given below:\n",
        "</br>\n",
        "Data Dictionary</br>\n",
        "gender : Gender of the candidate</br>\n",
        "ssc_percentage : Senior secondary exams percentage (10th Grade)</br>\n",
        "ssc_board : Board of education for ssc exams</br>\n",
        "hsc_percentage : Higher secondary exams percentage (12th Grade)</br>\n",
        "hsc_borad : Board of education for hsc exams</br>\n",
        "hsc_subject : Subject of study for hsc</br>\n",
        "degree_percentage : Percentage of marks in undergrad degree</br>\n",
        "undergrad_degree : Undergrad degree majors</br>\n",
        "work_experience : Past work experience</br>\n",
        "emp_test_percentage : Aptitude test percentage</br>\n",
        "specialization : Postgrad degree majors - (MBA specialization)</br>\n",
        "mba_percent : Percentage of marks in MBA degree</br>\n",
        "status (TARGET) : Status of placement. Placed / Not Placed"
      ],
      "id": "85kGKVCO_CXA"
    },
    {
      "cell_type": "code",
      "execution_count": 244,
      "metadata": {
        "id": "6fd1394f"
      },
      "outputs": [],
      "source": [
        "data = pd.read_csv('/content/kaggle/Job_Placement_Data.csv')"
      ],
      "id": "6fd1394f"
    },
    {
      "cell_type": "code",
      "execution_count": 245,
      "metadata": {
        "colab": {
          "base_uri": "https://localhost:8080/"
        },
        "id": "2a78340b",
        "outputId": "ad552d46-46b8-435c-d1dd-f0af4a00fb45"
      },
      "outputs": [
        {
          "output_type": "execute_result",
          "data": {
            "text/plain": [
              "(215, 13)"
            ]
          },
          "metadata": {},
          "execution_count": 245
        }
      ],
      "source": [
        "data.shape"
      ],
      "id": "2a78340b"
    },
    {
      "cell_type": "markdown",
      "metadata": {
        "id": "0bb3ca9d"
      },
      "source": [
        "## EDA"
      ],
      "id": "0bb3ca9d"
    },
    {
      "cell_type": "code",
      "execution_count": 246,
      "metadata": {
        "colab": {
          "base_uri": "https://localhost:8080/",
          "height": 206
        },
        "id": "801c98c4",
        "outputId": "70117928-9905-43d5-dd78-f61aa9874d3b"
      },
      "outputs": [
        {
          "output_type": "execute_result",
          "data": {
            "text/plain": [
              "  gender  ssc_percentage ssc_board  hsc_percentage hsc_board hsc_subject  \\\n",
              "0      M           67.00    Others           91.00    Others    Commerce   \n",
              "1      M           79.33   Central           78.33    Others     Science   \n",
              "2      M           65.00   Central           68.00   Central        Arts   \n",
              "3      M           56.00   Central           52.00   Central     Science   \n",
              "4      M           85.80   Central           73.60   Central    Commerce   \n",
              "\n",
              "   degree_percentage undergrad_degree work_experience  emp_test_percentage  \\\n",
              "0              58.00         Sci&Tech              No                 55.0   \n",
              "1              77.48         Sci&Tech             Yes                 86.5   \n",
              "2              64.00        Comm&Mgmt              No                 75.0   \n",
              "3              52.00         Sci&Tech              No                 66.0   \n",
              "4              73.30        Comm&Mgmt              No                 96.8   \n",
              "\n",
              "  specialisation  mba_percent      status  \n",
              "0         Mkt&HR        58.80      Placed  \n",
              "1        Mkt&Fin        66.28      Placed  \n",
              "2        Mkt&Fin        57.80      Placed  \n",
              "3         Mkt&HR        59.43  Not Placed  \n",
              "4        Mkt&Fin        55.50      Placed  "
            ],
            "text/html": [
              "\n",
              "  <div id=\"df-62f81e85-e2e0-429a-a0e4-fd283b947f15\">\n",
              "    <div class=\"colab-df-container\">\n",
              "      <div>\n",
              "<style scoped>\n",
              "    .dataframe tbody tr th:only-of-type {\n",
              "        vertical-align: middle;\n",
              "    }\n",
              "\n",
              "    .dataframe tbody tr th {\n",
              "        vertical-align: top;\n",
              "    }\n",
              "\n",
              "    .dataframe thead th {\n",
              "        text-align: right;\n",
              "    }\n",
              "</style>\n",
              "<table border=\"1\" class=\"dataframe\">\n",
              "  <thead>\n",
              "    <tr style=\"text-align: right;\">\n",
              "      <th></th>\n",
              "      <th>gender</th>\n",
              "      <th>ssc_percentage</th>\n",
              "      <th>ssc_board</th>\n",
              "      <th>hsc_percentage</th>\n",
              "      <th>hsc_board</th>\n",
              "      <th>hsc_subject</th>\n",
              "      <th>degree_percentage</th>\n",
              "      <th>undergrad_degree</th>\n",
              "      <th>work_experience</th>\n",
              "      <th>emp_test_percentage</th>\n",
              "      <th>specialisation</th>\n",
              "      <th>mba_percent</th>\n",
              "      <th>status</th>\n",
              "    </tr>\n",
              "  </thead>\n",
              "  <tbody>\n",
              "    <tr>\n",
              "      <th>0</th>\n",
              "      <td>M</td>\n",
              "      <td>67.00</td>\n",
              "      <td>Others</td>\n",
              "      <td>91.00</td>\n",
              "      <td>Others</td>\n",
              "      <td>Commerce</td>\n",
              "      <td>58.00</td>\n",
              "      <td>Sci&amp;Tech</td>\n",
              "      <td>No</td>\n",
              "      <td>55.0</td>\n",
              "      <td>Mkt&amp;HR</td>\n",
              "      <td>58.80</td>\n",
              "      <td>Placed</td>\n",
              "    </tr>\n",
              "    <tr>\n",
              "      <th>1</th>\n",
              "      <td>M</td>\n",
              "      <td>79.33</td>\n",
              "      <td>Central</td>\n",
              "      <td>78.33</td>\n",
              "      <td>Others</td>\n",
              "      <td>Science</td>\n",
              "      <td>77.48</td>\n",
              "      <td>Sci&amp;Tech</td>\n",
              "      <td>Yes</td>\n",
              "      <td>86.5</td>\n",
              "      <td>Mkt&amp;Fin</td>\n",
              "      <td>66.28</td>\n",
              "      <td>Placed</td>\n",
              "    </tr>\n",
              "    <tr>\n",
              "      <th>2</th>\n",
              "      <td>M</td>\n",
              "      <td>65.00</td>\n",
              "      <td>Central</td>\n",
              "      <td>68.00</td>\n",
              "      <td>Central</td>\n",
              "      <td>Arts</td>\n",
              "      <td>64.00</td>\n",
              "      <td>Comm&amp;Mgmt</td>\n",
              "      <td>No</td>\n",
              "      <td>75.0</td>\n",
              "      <td>Mkt&amp;Fin</td>\n",
              "      <td>57.80</td>\n",
              "      <td>Placed</td>\n",
              "    </tr>\n",
              "    <tr>\n",
              "      <th>3</th>\n",
              "      <td>M</td>\n",
              "      <td>56.00</td>\n",
              "      <td>Central</td>\n",
              "      <td>52.00</td>\n",
              "      <td>Central</td>\n",
              "      <td>Science</td>\n",
              "      <td>52.00</td>\n",
              "      <td>Sci&amp;Tech</td>\n",
              "      <td>No</td>\n",
              "      <td>66.0</td>\n",
              "      <td>Mkt&amp;HR</td>\n",
              "      <td>59.43</td>\n",
              "      <td>Not Placed</td>\n",
              "    </tr>\n",
              "    <tr>\n",
              "      <th>4</th>\n",
              "      <td>M</td>\n",
              "      <td>85.80</td>\n",
              "      <td>Central</td>\n",
              "      <td>73.60</td>\n",
              "      <td>Central</td>\n",
              "      <td>Commerce</td>\n",
              "      <td>73.30</td>\n",
              "      <td>Comm&amp;Mgmt</td>\n",
              "      <td>No</td>\n",
              "      <td>96.8</td>\n",
              "      <td>Mkt&amp;Fin</td>\n",
              "      <td>55.50</td>\n",
              "      <td>Placed</td>\n",
              "    </tr>\n",
              "  </tbody>\n",
              "</table>\n",
              "</div>\n",
              "      <button class=\"colab-df-convert\" onclick=\"convertToInteractive('df-62f81e85-e2e0-429a-a0e4-fd283b947f15')\"\n",
              "              title=\"Convert this dataframe to an interactive table.\"\n",
              "              style=\"display:none;\">\n",
              "        \n",
              "  <svg xmlns=\"http://www.w3.org/2000/svg\" height=\"24px\"viewBox=\"0 0 24 24\"\n",
              "       width=\"24px\">\n",
              "    <path d=\"M0 0h24v24H0V0z\" fill=\"none\"/>\n",
              "    <path d=\"M18.56 5.44l.94 2.06.94-2.06 2.06-.94-2.06-.94-.94-2.06-.94 2.06-2.06.94zm-11 1L8.5 8.5l.94-2.06 2.06-.94-2.06-.94L8.5 2.5l-.94 2.06-2.06.94zm10 10l.94 2.06.94-2.06 2.06-.94-2.06-.94-.94-2.06-.94 2.06-2.06.94z\"/><path d=\"M17.41 7.96l-1.37-1.37c-.4-.4-.92-.59-1.43-.59-.52 0-1.04.2-1.43.59L10.3 9.45l-7.72 7.72c-.78.78-.78 2.05 0 2.83L4 21.41c.39.39.9.59 1.41.59.51 0 1.02-.2 1.41-.59l7.78-7.78 2.81-2.81c.8-.78.8-2.07 0-2.86zM5.41 20L4 18.59l7.72-7.72 1.47 1.35L5.41 20z\"/>\n",
              "  </svg>\n",
              "      </button>\n",
              "      \n",
              "  <style>\n",
              "    .colab-df-container {\n",
              "      display:flex;\n",
              "      flex-wrap:wrap;\n",
              "      gap: 12px;\n",
              "    }\n",
              "\n",
              "    .colab-df-convert {\n",
              "      background-color: #E8F0FE;\n",
              "      border: none;\n",
              "      border-radius: 50%;\n",
              "      cursor: pointer;\n",
              "      display: none;\n",
              "      fill: #1967D2;\n",
              "      height: 32px;\n",
              "      padding: 0 0 0 0;\n",
              "      width: 32px;\n",
              "    }\n",
              "\n",
              "    .colab-df-convert:hover {\n",
              "      background-color: #E2EBFA;\n",
              "      box-shadow: 0px 1px 2px rgba(60, 64, 67, 0.3), 0px 1px 3px 1px rgba(60, 64, 67, 0.15);\n",
              "      fill: #174EA6;\n",
              "    }\n",
              "\n",
              "    [theme=dark] .colab-df-convert {\n",
              "      background-color: #3B4455;\n",
              "      fill: #D2E3FC;\n",
              "    }\n",
              "\n",
              "    [theme=dark] .colab-df-convert:hover {\n",
              "      background-color: #434B5C;\n",
              "      box-shadow: 0px 1px 3px 1px rgba(0, 0, 0, 0.15);\n",
              "      filter: drop-shadow(0px 1px 2px rgba(0, 0, 0, 0.3));\n",
              "      fill: #FFFFFF;\n",
              "    }\n",
              "  </style>\n",
              "\n",
              "      <script>\n",
              "        const buttonEl =\n",
              "          document.querySelector('#df-62f81e85-e2e0-429a-a0e4-fd283b947f15 button.colab-df-convert');\n",
              "        buttonEl.style.display =\n",
              "          google.colab.kernel.accessAllowed ? 'block' : 'none';\n",
              "\n",
              "        async function convertToInteractive(key) {\n",
              "          const element = document.querySelector('#df-62f81e85-e2e0-429a-a0e4-fd283b947f15');\n",
              "          const dataTable =\n",
              "            await google.colab.kernel.invokeFunction('convertToInteractive',\n",
              "                                                     [key], {});\n",
              "          if (!dataTable) return;\n",
              "\n",
              "          const docLinkHtml = 'Like what you see? Visit the ' +\n",
              "            '<a target=\"_blank\" href=https://colab.research.google.com/notebooks/data_table.ipynb>data table notebook</a>'\n",
              "            + ' to learn more about interactive tables.';\n",
              "          element.innerHTML = '';\n",
              "          dataTable['output_type'] = 'display_data';\n",
              "          await google.colab.output.renderOutput(dataTable, element);\n",
              "          const docLink = document.createElement('div');\n",
              "          docLink.innerHTML = docLinkHtml;\n",
              "          element.appendChild(docLink);\n",
              "        }\n",
              "      </script>\n",
              "    </div>\n",
              "  </div>\n",
              "  "
            ]
          },
          "metadata": {},
          "execution_count": 246
        }
      ],
      "source": [
        "data.head() #Returns Top 5 records "
      ],
      "id": "801c98c4"
    },
    {
      "cell_type": "code",
      "execution_count": 247,
      "metadata": {
        "colab": {
          "base_uri": "https://localhost:8080/"
        },
        "id": "48f8ff3a",
        "outputId": "de27cf61-8476-4bf6-a0ac-1bed8ee9e181"
      },
      "outputs": [
        {
          "output_type": "stream",
          "name": "stdout",
          "text": [
            "<class 'pandas.core.frame.DataFrame'>\n",
            "RangeIndex: 215 entries, 0 to 214\n",
            "Data columns (total 13 columns):\n",
            " #   Column               Non-Null Count  Dtype  \n",
            "---  ------               --------------  -----  \n",
            " 0   gender               215 non-null    object \n",
            " 1   ssc_percentage       215 non-null    float64\n",
            " 2   ssc_board            215 non-null    object \n",
            " 3   hsc_percentage       215 non-null    float64\n",
            " 4   hsc_board            215 non-null    object \n",
            " 5   hsc_subject          215 non-null    object \n",
            " 6   degree_percentage    215 non-null    float64\n",
            " 7   undergrad_degree     215 non-null    object \n",
            " 8   work_experience      215 non-null    object \n",
            " 9   emp_test_percentage  215 non-null    float64\n",
            " 10  specialisation       215 non-null    object \n",
            " 11  mba_percent          215 non-null    float64\n",
            " 12  status               215 non-null    object \n",
            "dtypes: float64(5), object(8)\n",
            "memory usage: 22.0+ KB\n"
          ]
        }
      ],
      "source": [
        "data.info() #Returns the count of null values and the data types of the features"
      ],
      "id": "48f8ff3a"
    },
    {
      "cell_type": "code",
      "execution_count": 248,
      "metadata": {
        "colab": {
          "base_uri": "https://localhost:8080/",
          "height": 300
        },
        "id": "1d790e80",
        "outputId": "0e5253af-fc0c-403c-c208-9c65d1ef7782"
      },
      "outputs": [
        {
          "output_type": "execute_result",
          "data": {
            "text/plain": [
              "       ssc_percentage  hsc_percentage  degree_percentage  emp_test_percentage  \\\n",
              "count      215.000000      215.000000         215.000000           215.000000   \n",
              "mean        67.303395       66.333163          66.370186            72.100558   \n",
              "std         10.827205       10.897509           7.358743            13.275956   \n",
              "min         40.890000       37.000000          50.000000            50.000000   \n",
              "25%         60.600000       60.900000          61.000000            60.000000   \n",
              "50%         67.000000       65.000000          66.000000            71.000000   \n",
              "75%         75.700000       73.000000          72.000000            83.500000   \n",
              "max         89.400000       97.700000          91.000000            98.000000   \n",
              "\n",
              "       mba_percent  \n",
              "count   215.000000  \n",
              "mean     62.278186  \n",
              "std       5.833385  \n",
              "min      51.210000  \n",
              "25%      57.945000  \n",
              "50%      62.000000  \n",
              "75%      66.255000  \n",
              "max      77.890000  "
            ],
            "text/html": [
              "\n",
              "  <div id=\"df-700b5489-ef62-49e8-8a59-d15f26bac25a\">\n",
              "    <div class=\"colab-df-container\">\n",
              "      <div>\n",
              "<style scoped>\n",
              "    .dataframe tbody tr th:only-of-type {\n",
              "        vertical-align: middle;\n",
              "    }\n",
              "\n",
              "    .dataframe tbody tr th {\n",
              "        vertical-align: top;\n",
              "    }\n",
              "\n",
              "    .dataframe thead th {\n",
              "        text-align: right;\n",
              "    }\n",
              "</style>\n",
              "<table border=\"1\" class=\"dataframe\">\n",
              "  <thead>\n",
              "    <tr style=\"text-align: right;\">\n",
              "      <th></th>\n",
              "      <th>ssc_percentage</th>\n",
              "      <th>hsc_percentage</th>\n",
              "      <th>degree_percentage</th>\n",
              "      <th>emp_test_percentage</th>\n",
              "      <th>mba_percent</th>\n",
              "    </tr>\n",
              "  </thead>\n",
              "  <tbody>\n",
              "    <tr>\n",
              "      <th>count</th>\n",
              "      <td>215.000000</td>\n",
              "      <td>215.000000</td>\n",
              "      <td>215.000000</td>\n",
              "      <td>215.000000</td>\n",
              "      <td>215.000000</td>\n",
              "    </tr>\n",
              "    <tr>\n",
              "      <th>mean</th>\n",
              "      <td>67.303395</td>\n",
              "      <td>66.333163</td>\n",
              "      <td>66.370186</td>\n",
              "      <td>72.100558</td>\n",
              "      <td>62.278186</td>\n",
              "    </tr>\n",
              "    <tr>\n",
              "      <th>std</th>\n",
              "      <td>10.827205</td>\n",
              "      <td>10.897509</td>\n",
              "      <td>7.358743</td>\n",
              "      <td>13.275956</td>\n",
              "      <td>5.833385</td>\n",
              "    </tr>\n",
              "    <tr>\n",
              "      <th>min</th>\n",
              "      <td>40.890000</td>\n",
              "      <td>37.000000</td>\n",
              "      <td>50.000000</td>\n",
              "      <td>50.000000</td>\n",
              "      <td>51.210000</td>\n",
              "    </tr>\n",
              "    <tr>\n",
              "      <th>25%</th>\n",
              "      <td>60.600000</td>\n",
              "      <td>60.900000</td>\n",
              "      <td>61.000000</td>\n",
              "      <td>60.000000</td>\n",
              "      <td>57.945000</td>\n",
              "    </tr>\n",
              "    <tr>\n",
              "      <th>50%</th>\n",
              "      <td>67.000000</td>\n",
              "      <td>65.000000</td>\n",
              "      <td>66.000000</td>\n",
              "      <td>71.000000</td>\n",
              "      <td>62.000000</td>\n",
              "    </tr>\n",
              "    <tr>\n",
              "      <th>75%</th>\n",
              "      <td>75.700000</td>\n",
              "      <td>73.000000</td>\n",
              "      <td>72.000000</td>\n",
              "      <td>83.500000</td>\n",
              "      <td>66.255000</td>\n",
              "    </tr>\n",
              "    <tr>\n",
              "      <th>max</th>\n",
              "      <td>89.400000</td>\n",
              "      <td>97.700000</td>\n",
              "      <td>91.000000</td>\n",
              "      <td>98.000000</td>\n",
              "      <td>77.890000</td>\n",
              "    </tr>\n",
              "  </tbody>\n",
              "</table>\n",
              "</div>\n",
              "      <button class=\"colab-df-convert\" onclick=\"convertToInteractive('df-700b5489-ef62-49e8-8a59-d15f26bac25a')\"\n",
              "              title=\"Convert this dataframe to an interactive table.\"\n",
              "              style=\"display:none;\">\n",
              "        \n",
              "  <svg xmlns=\"http://www.w3.org/2000/svg\" height=\"24px\"viewBox=\"0 0 24 24\"\n",
              "       width=\"24px\">\n",
              "    <path d=\"M0 0h24v24H0V0z\" fill=\"none\"/>\n",
              "    <path d=\"M18.56 5.44l.94 2.06.94-2.06 2.06-.94-2.06-.94-.94-2.06-.94 2.06-2.06.94zm-11 1L8.5 8.5l.94-2.06 2.06-.94-2.06-.94L8.5 2.5l-.94 2.06-2.06.94zm10 10l.94 2.06.94-2.06 2.06-.94-2.06-.94-.94-2.06-.94 2.06-2.06.94z\"/><path d=\"M17.41 7.96l-1.37-1.37c-.4-.4-.92-.59-1.43-.59-.52 0-1.04.2-1.43.59L10.3 9.45l-7.72 7.72c-.78.78-.78 2.05 0 2.83L4 21.41c.39.39.9.59 1.41.59.51 0 1.02-.2 1.41-.59l7.78-7.78 2.81-2.81c.8-.78.8-2.07 0-2.86zM5.41 20L4 18.59l7.72-7.72 1.47 1.35L5.41 20z\"/>\n",
              "  </svg>\n",
              "      </button>\n",
              "      \n",
              "  <style>\n",
              "    .colab-df-container {\n",
              "      display:flex;\n",
              "      flex-wrap:wrap;\n",
              "      gap: 12px;\n",
              "    }\n",
              "\n",
              "    .colab-df-convert {\n",
              "      background-color: #E8F0FE;\n",
              "      border: none;\n",
              "      border-radius: 50%;\n",
              "      cursor: pointer;\n",
              "      display: none;\n",
              "      fill: #1967D2;\n",
              "      height: 32px;\n",
              "      padding: 0 0 0 0;\n",
              "      width: 32px;\n",
              "    }\n",
              "\n",
              "    .colab-df-convert:hover {\n",
              "      background-color: #E2EBFA;\n",
              "      box-shadow: 0px 1px 2px rgba(60, 64, 67, 0.3), 0px 1px 3px 1px rgba(60, 64, 67, 0.15);\n",
              "      fill: #174EA6;\n",
              "    }\n",
              "\n",
              "    [theme=dark] .colab-df-convert {\n",
              "      background-color: #3B4455;\n",
              "      fill: #D2E3FC;\n",
              "    }\n",
              "\n",
              "    [theme=dark] .colab-df-convert:hover {\n",
              "      background-color: #434B5C;\n",
              "      box-shadow: 0px 1px 3px 1px rgba(0, 0, 0, 0.15);\n",
              "      filter: drop-shadow(0px 1px 2px rgba(0, 0, 0, 0.3));\n",
              "      fill: #FFFFFF;\n",
              "    }\n",
              "  </style>\n",
              "\n",
              "      <script>\n",
              "        const buttonEl =\n",
              "          document.querySelector('#df-700b5489-ef62-49e8-8a59-d15f26bac25a button.colab-df-convert');\n",
              "        buttonEl.style.display =\n",
              "          google.colab.kernel.accessAllowed ? 'block' : 'none';\n",
              "\n",
              "        async function convertToInteractive(key) {\n",
              "          const element = document.querySelector('#df-700b5489-ef62-49e8-8a59-d15f26bac25a');\n",
              "          const dataTable =\n",
              "            await google.colab.kernel.invokeFunction('convertToInteractive',\n",
              "                                                     [key], {});\n",
              "          if (!dataTable) return;\n",
              "\n",
              "          const docLinkHtml = 'Like what you see? Visit the ' +\n",
              "            '<a target=\"_blank\" href=https://colab.research.google.com/notebooks/data_table.ipynb>data table notebook</a>'\n",
              "            + ' to learn more about interactive tables.';\n",
              "          element.innerHTML = '';\n",
              "          dataTable['output_type'] = 'display_data';\n",
              "          await google.colab.output.renderOutput(dataTable, element);\n",
              "          const docLink = document.createElement('div');\n",
              "          docLink.innerHTML = docLinkHtml;\n",
              "          element.appendChild(docLink);\n",
              "        }\n",
              "      </script>\n",
              "    </div>\n",
              "  </div>\n",
              "  "
            ]
          },
          "metadata": {},
          "execution_count": 248
        }
      ],
      "source": [
        "data.describe() # Returns the statistical descriptions of the data"
      ],
      "id": "1d790e80"
    },
    {
      "cell_type": "code",
      "execution_count": 249,
      "metadata": {
        "colab": {
          "base_uri": "https://localhost:8080/"
        },
        "id": "b351f055",
        "outputId": "e630509d-dc5e-400f-8255-66dc5c9b41f8"
      },
      "outputs": [
        {
          "output_type": "execute_result",
          "data": {
            "text/plain": [
              "gender                 0\n",
              "ssc_percentage         0\n",
              "ssc_board              0\n",
              "hsc_percentage         0\n",
              "hsc_board              0\n",
              "hsc_subject            0\n",
              "degree_percentage      0\n",
              "undergrad_degree       0\n",
              "work_experience        0\n",
              "emp_test_percentage    0\n",
              "specialisation         0\n",
              "mba_percent            0\n",
              "status                 0\n",
              "dtype: int64"
            ]
          },
          "metadata": {},
          "execution_count": 249
        }
      ],
      "source": [
        "data.isna().sum() #Returns the count of the null values"
      ],
      "id": "b351f055"
    },
    {
      "cell_type": "code",
      "execution_count": 250,
      "metadata": {
        "colab": {
          "base_uri": "https://localhost:8080/"
        },
        "id": "a31d5f23",
        "outputId": "840d4e89-caa8-490e-f0bc-e659e8b1dc08"
      },
      "outputs": [
        {
          "output_type": "execute_result",
          "data": {
            "text/plain": [
              "Placed        148\n",
              "Not Placed     67\n",
              "Name: status, dtype: int64"
            ]
          },
          "metadata": {},
          "execution_count": 250
        }
      ],
      "source": [
        "data['status'].value_counts() #Returns the value counts of the \"Placed\" and \"Not Placed\" in the 'status' column"
      ],
      "id": "a31d5f23"
    },
    {
      "cell_type": "code",
      "execution_count": 251,
      "metadata": {
        "colab": {
          "base_uri": "https://localhost:8080/"
        },
        "id": "73830bba",
        "outputId": "f1264593-2dde-43fb-a4ef-e09fa27ae174"
      },
      "outputs": [
        {
          "output_type": "execute_result",
          "data": {
            "text/plain": [
              "25"
            ]
          },
          "metadata": {},
          "execution_count": 251
        }
      ],
      "source": [
        "# Returns the count comparing the percentage scored in 'ssc_percentage' & 'hsc_percentage' and the 'status' as \"Not Placed\"\n",
        "data[(data['ssc_percentage']<60) & (data['hsc_percentage']<60) & (data['status']=='Not Placed')].shape[0]"
      ],
      "id": "73830bba"
    },
    {
      "cell_type": "code",
      "execution_count": 252,
      "metadata": {
        "colab": {
          "base_uri": "https://localhost:8080/"
        },
        "id": "6d75f838",
        "outputId": "1424a5e6-036d-411c-c465-7eaad1687a69"
      },
      "outputs": [
        {
          "output_type": "execute_result",
          "data": {
            "text/plain": [
              "1"
            ]
          },
          "metadata": {},
          "execution_count": 252
        }
      ],
      "source": [
        "# Returns the count comparing the percentage scored in 'ssc_percentage' & 'hsc_percentage' and the 'status' as \"Placed\"\n",
        "data[(data['ssc_percentage']<60) & (data['hsc_percentage']<60) & (data['status']=='Placed')].shape[0]"
      ],
      "id": "6d75f838"
    },
    {
      "cell_type": "markdown",
      "metadata": {
        "id": "22e3ca54"
      },
      "source": [
        "## Data Visualization"
      ],
      "id": "22e3ca54"
    },
    {
      "cell_type": "code",
      "execution_count": 253,
      "metadata": {
        "colab": {
          "base_uri": "https://localhost:8080/",
          "height": 624
        },
        "id": "d4cee404",
        "outputId": "c586ab6c-0781-4ec9-f7e9-83fc0dee477d"
      },
      "outputs": [
        {
          "output_type": "execute_result",
          "data": {
            "text/plain": [
              "<AxesSubplot:xlabel='work_experience', ylabel='emp_test_percentage'>"
            ]
          },
          "metadata": {},
          "execution_count": 253
        },
        {
          "output_type": "display_data",
          "data": {
            "text/plain": [
              "<Figure size 1440x720 with 4 Axes>"
            ],
            "image/png": "[encoded data removed]"
          },
          "metadata": {
            "needs_background": "light"
          }
        }
      ],
      "source": [
        "fig,axes = plt.subplots(2,2,figsize=(20,10))\n",
        "\n",
        "plt.subplot(2,2,1)\n",
        "#Bar plot based on the 'hsc_board' and 'hsc_percentage' on the basis of 'status'\n",
        "sns.barplot(x='hsc_board',y='hsc_percentage',hue='status',data=data)\n",
        "\n",
        "plt.subplot(2,2,2)\n",
        "#Bar plot based on the 'ssc_board' and 'ssc_percentage' on the basis of 'status'\n",
        "sns.barplot(x='ssc_board',y='ssc_percentage',hue='status',data=data)\n",
        "\n",
        "plt.subplot(2,2,3)\n",
        "#Bar plot based on the 'undergrad_degree' and 'degree_percentagee' on the basis of 'status'\n",
        "sns.barplot(x='undergrad_degree',y='degree_percentage',hue='status',data=data)\n",
        "\n",
        "plt.subplot(2,2,4)\n",
        "#Bar plot based on the 'work_experience' and 'emp_test_percentage' on the basis of 'status'\n",
        "sns.barplot(x='work_experience',y='emp_test_percentage',hue='status',data=data)"
      ],
      "id": "d4cee404"
    },
    {
      "cell_type": "code",
      "execution_count": 254,
      "metadata": {
        "colab": {
          "base_uri": "https://localhost:8080/"
        },
        "id": "8e0c7ab6",
        "outputId": "953189c2-5b4d-49cd-cf38-800538f45e51"
      },
      "outputs": [
        {
          "output_type": "execute_result",
          "data": {
            "text/plain": [
              "Index(['gender', 'ssc_percentage', 'ssc_board', 'hsc_percentage', 'hsc_board',\n",
              "       'hsc_subject', 'degree_percentage', 'undergrad_degree',\n",
              "       'work_experience', 'emp_test_percentage', 'specialisation',\n",
              "       'mba_percent', 'status'],\n",
              "      dtype='object')"
            ]
          },
          "metadata": {},
          "execution_count": 254
        }
      ],
      "source": [
        "data.columns"
      ],
      "id": "8e0c7ab6"
    },
    {
      "cell_type": "code",
      "execution_count": 255,
      "metadata": {
        "colab": {
          "base_uri": "https://localhost:8080/",
          "height": 715
        },
        "id": "983713fe",
        "outputId": "ca7751ab-f7c2-4dc5-db67-34a69991c3bf"
      },
      "outputs": [
        {
          "output_type": "display_data",
          "data": {
            "text/plain": [
              "<Figure size 1440x864 with 8 Axes>"
            ],
            "image/png": "[encoded data removed]"
          },
          "metadata": {
            "needs_background": "light"
          }
        }
      ],
      "source": [
        "# Returns the Count Plot of various columns,describing the count of of \"Placed\" and \"Not Placed\" candidates\n",
        "j=[]\n",
        "for i in data.columns:\n",
        "    if data[i].dtypes =='object':\n",
        "        j.append(i)\n",
        "fig,axes = plt.subplots(4,2,figsize=(20,12))\n",
        "for i in range(len(j)):\n",
        "    plt.subplot(2,4,i+1)\n",
        "    sns.countplot(x=data[j[i]],hue='status',data=data)"
      ],
      "id": "983713fe"
    },
    {
      "cell_type": "markdown",
      "metadata": {
        "id": "9c67374c"
      },
      "source": [
        "## Outliers Analysis"
      ],
      "id": "9c67374c"
    },
    {
      "cell_type": "code",
      "execution_count": 256,
      "metadata": {
        "colab": {
          "base_uri": "https://localhost:8080/",
          "height": 335
        },
        "id": "fdf95105",
        "outputId": "e56c74d2-45f0-453e-c118-3c11eb440c27"
      },
      "outputs": [
        {
          "output_type": "display_data",
          "data": {
            "text/plain": [
              "<Figure size 1440x360 with 5 Axes>"
            ],
            "image/png": "[encoded data removed]"
          },
          "metadata": {
            "needs_background": "light"
          }
        }
      ],
      "source": [
        "# Returns the Box Plot of the columns \n",
        "plt.figure(figsize=(20,5))\n",
        "j = 1\n",
        "for i in data.columns:\n",
        "    if data[i].dtypes != 'object':\n",
        "        plt.subplot(1,5,j)\n",
        "        sns.boxplot(x=data[i])\n",
        "        j +=1"
      ],
      "id": "fdf95105"
    },
    {
      "cell_type": "markdown",
      "metadata": {
        "id": "22196a67"
      },
      "source": [
        "## Inter Quartile Range (IQR)"
      ],
      "id": "22196a67"
    },
    {
      "cell_type": "code",
      "execution_count": 257,
      "metadata": {
        "colab": {
          "base_uri": "https://localhost:8080/"
        },
        "id": "6ef112c3",
        "outputId": "99b8f86a-be9d-4697-8cf4-8599afd31e2e"
      },
      "outputs": [
        {
          "output_type": "stream",
          "name": "stdout",
          "text": [
            "Q1 60.9\n",
            "Q3 73.0\n",
            "IQR 12.1\n"
          ]
        }
      ],
      "source": [
        "Q1 = data['hsc_percentage'].quantile(0.25)\n",
        "Q3 = data['hsc_percentage'].quantile(0.75)\n",
        "print('Q1',Q1)\n",
        "print('Q3',Q3)\n",
        "\n",
        "IQR  = Q3 - Q1\n",
        "print('IQR',round(IQR,2))"
      ],
      "id": "6ef112c3"
    },
    {
      "cell_type": "markdown",
      "metadata": {
        "id": "f045c63c"
      },
      "source": [
        "## Handling Outliers"
      ],
      "id": "f045c63c"
    },
    {
      "cell_type": "code",
      "execution_count": 258,
      "metadata": {
        "id": "3f2cfcd1"
      },
      "outputs": [],
      "source": [
        "lower_limit = Q1 - 1.5 * IQR \n",
        "upper_limit = Q3 + 1.5 * IQR"
      ],
      "id": "3f2cfcd1"
    },
    {
      "cell_type": "code",
      "execution_count": 259,
      "metadata": {
        "id": "1187af96"
      },
      "outputs": [],
      "source": [
        "data = data[~((data.loc[:,['hsc_percentage']] < lower_limit) | (data.loc[:,['hsc_percentage']] > upper_limit)).any(axis=1)]"
      ],
      "id": "1187af96"
    },
    {
      "cell_type": "code",
      "execution_count": 260,
      "metadata": {
        "colab": {
          "base_uri": "https://localhost:8080/"
        },
        "id": "b8b1af5f",
        "outputId": "dfd2ddff-7bc9-454e-ab30-f06e1e0a84f9"
      },
      "outputs": [
        {
          "output_type": "execute_result",
          "data": {
            "text/plain": [
              "(207, 13)"
            ]
          },
          "metadata": {},
          "execution_count": 260
        }
      ],
      "source": [
        "data.shape"
      ],
      "id": "b8b1af5f"
    },
    {
      "cell_type": "markdown",
      "metadata": {
        "id": "703f6033"
      },
      "source": [
        "## Data Preprocessing"
      ],
      "id": "703f6033"
    },
    {
      "cell_type": "code",
      "execution_count": 261,
      "metadata": {
        "id": "d6872f95"
      },
      "outputs": [],
      "source": [
        "from sklearn.preprocessing import LabelEncoder"
      ],
      "id": "d6872f95"
    },
    {
      "cell_type": "code",
      "execution_count": 262,
      "metadata": {
        "id": "6077344f"
      },
      "outputs": [],
      "source": [
        "# Using Label Encoder all the string type of data gets converted into interger type\n",
        "le = LabelEncoder()\n",
        "for i in data.columns:\n",
        "    if data[i].dtypes == 'object':\n",
        "        data[i] = le.fit_transform(data[i])    "
      ],
      "id": "6077344f"
    },
    {
      "cell_type": "code",
      "execution_count": 263,
      "metadata": {
        "colab": {
          "base_uri": "https://localhost:8080/",
          "height": 206
        },
        "id": "206305c3",
        "outputId": "ddb2a637-3bf5-4daa-b7a0-f98fb668be07"
      },
      "outputs": [
        {
          "output_type": "execute_result",
          "data": {
            "text/plain": [
              "   gender  ssc_percentage  ssc_board  hsc_percentage  hsc_board  hsc_subject  \\\n",
              "0       1           67.00          1           91.00          1            1   \n",
              "1       1           79.33          0           78.33          1            2   \n",
              "2       1           65.00          0           68.00          0            0   \n",
              "3       1           56.00          0           52.00          0            2   \n",
              "4       1           85.80          0           73.60          0            1   \n",
              "\n",
              "   degree_percentage  undergrad_degree  work_experience  emp_test_percentage  \\\n",
              "0              58.00                 2                0                 55.0   \n",
              "1              77.48                 2                1                 86.5   \n",
              "2              64.00                 0                0                 75.0   \n",
              "3              52.00                 2                0                 66.0   \n",
              "4              73.30                 0                0                 96.8   \n",
              "\n",
              "   specialisation  mba_percent  status  \n",
              "0               1        58.80       1  \n",
              "1               0        66.28       1  \n",
              "2               0        57.80       1  \n",
              "3               1        59.43       0  \n",
              "4               0        55.50       1  "
            ],
            "text/html": [
              "\n",
              "  <div id=\"df-84e0d58a-e3ea-492f-9c07-cad811616e1f\">\n",
              "    <div class=\"colab-df-container\">\n",
              "      <div>\n",
              "<style scoped>\n",
              "    .dataframe tbody tr th:only-of-type {\n",
              "        vertical-align: middle;\n",
              "    }\n",
              "\n",
              "    .dataframe tbody tr th {\n",
              "        vertical-align: top;\n",
              "    }\n",
              "\n",
              "    .dataframe thead th {\n",
              "        text-align: right;\n",
              "    }\n",
              "</style>\n",
              "<table border=\"1\" class=\"dataframe\">\n",
              "  <thead>\n",
              "    <tr style=\"text-align: right;\">\n",
              "      <th></th>\n",
              "      <th>gender</th>\n",
              "      <th>ssc_percentage</th>\n",
              "      <th>ssc_board</th>\n",
              "      <th>hsc_percentage</th>\n",
              "      <th>hsc_board</th>\n",
              "      <th>hsc_subject</th>\n",
              "      <th>degree_percentage</th>\n",
              "      <th>undergrad_degree</th>\n",
              "      <th>work_experience</th>\n",
              "      <th>emp_test_percentage</th>\n",
              "      <th>specialisation</th>\n",
              "      <th>mba_percent</th>\n",
              "      <th>status</th>\n",
              "    </tr>\n",
              "  </thead>\n",
              "  <tbody>\n",
              "    <tr>\n",
              "      <th>0</th>\n",
              "      <td>1</td>\n",
              "      <td>67.00</td>\n",
              "      <td>1</td>\n",
              "      <td>91.00</td>\n",
              "      <td>1</td>\n",
              "      <td>1</td>\n",
              "      <td>58.00</td>\n",
              "      <td>2</td>\n",
              "      <td>0</td>\n",
              "      <td>55.0</td>\n",
              "      <td>1</td>\n",
              "      <td>58.80</td>\n",
              "      <td>1</td>\n",
              "    </tr>\n",
              "    <tr>\n",
              "      <th>1</th>\n",
              "      <td>1</td>\n",
              "      <td>79.33</td>\n",
              "      <td>0</td>\n",
              "      <td>78.33</td>\n",
              "      <td>1</td>\n",
              "      <td>2</td>\n",
              "      <td>77.48</td>\n",
              "      <td>2</td>\n",
              "      <td>1</td>\n",
              "      <td>86.5</td>\n",
              "      <td>0</td>\n",
              "      <td>66.28</td>\n",
              "      <td>1</td>\n",
              "    </tr>\n",
              "    <tr>\n",
              "      <th>2</th>\n",
              "      <td>1</td>\n",
              "      <td>65.00</td>\n",
              "      <td>0</td>\n",
              "      <td>68.00</td>\n",
              "      <td>0</td>\n",
              "      <td>0</td>\n",
              "      <td>64.00</td>\n",
              "      <td>0</td>\n",
              "      <td>0</td>\n",
              "      <td>75.0</td>\n",
              "      <td>0</td>\n",
              "      <td>57.80</td>\n",
              "      <td>1</td>\n",
              "    </tr>\n",
              "    <tr>\n",
              "      <th>3</th>\n",
              "      <td>1</td>\n",
              "      <td>56.00</td>\n",
              "      <td>0</td>\n",
              "      <td>52.00</td>\n",
              "      <td>0</td>\n",
              "      <td>2</td>\n",
              "      <td>52.00</td>\n",
              "      <td>2</td>\n",
              "      <td>0</td>\n",
              "      <td>66.0</td>\n",
              "      <td>1</td>\n",
              "      <td>59.43</td>\n",
              "      <td>0</td>\n",
              "    </tr>\n",
              "    <tr>\n",
              "      <th>4</th>\n",
              "      <td>1</td>\n",
              "      <td>85.80</td>\n",
              "      <td>0</td>\n",
              "      <td>73.60</td>\n",
              "      <td>0</td>\n",
              "      <td>1</td>\n",
              "      <td>73.30</td>\n",
              "      <td>0</td>\n",
              "      <td>0</td>\n",
              "      <td>96.8</td>\n",
              "      <td>0</td>\n",
              "      <td>55.50</td>\n",
              "      <td>1</td>\n",
              "    </tr>\n",
              "  </tbody>\n",
              "</table>\n",
              "</div>\n",
              "      <button class=\"colab-df-convert\" onclick=\"convertToInteractive('df-84e0d58a-e3ea-492f-9c07-cad811616e1f')\"\n",
              "              title=\"Convert this dataframe to an interactive table.\"\n",
              "              style=\"display:none;\">\n",
              "        \n",
              "  <svg xmlns=\"http://www.w3.org/2000/svg\" height=\"24px\"viewBox=\"0 0 24 24\"\n",
              "       width=\"24px\">\n",
              "    <path d=\"M0 0h24v24H0V0z\" fill=\"none\"/>\n",
              "    <path d=\"M18.56 5.44l.94 2.06.94-2.06 2.06-.94-2.06-.94-.94-2.06-.94 2.06-2.06.94zm-11 1L8.5 8.5l.94-2.06 2.06-.94-2.06-.94L8.5 2.5l-.94 2.06-2.06.94zm10 10l.94 2.06.94-2.06 2.06-.94-2.06-.94-.94-2.06-.94 2.06-2.06.94z\"/><path d=\"M17.41 7.96l-1.37-1.37c-.4-.4-.92-.59-1.43-.59-.52 0-1.04.2-1.43.59L10.3 9.45l-7.72 7.72c-.78.78-.78 2.05 0 2.83L4 21.41c.39.39.9.59 1.41.59.51 0 1.02-.2 1.41-.59l7.78-7.78 2.81-2.81c.8-.78.8-2.07 0-2.86zM5.41 20L4 18.59l7.72-7.72 1.47 1.35L5.41 20z\"/>\n",
              "  </svg>\n",
              "      </button>\n",
              "      \n",
              "  <style>\n",
              "    .colab-df-container {\n",
              "      display:flex;\n",
              "      flex-wrap:wrap;\n",
              "      gap: 12px;\n",
              "    }\n",
              "\n",
              "    .colab-df-convert {\n",
              "      background-color: #E8F0FE;\n",
              "      border: none;\n",
              "      border-radius: 50%;\n",
              "      cursor: pointer;\n",
              "      display: none;\n",
              "      fill: #1967D2;\n",
              "      height: 32px;\n",
              "      padding: 0 0 0 0;\n",
              "      width: 32px;\n",
              "    }\n",
              "\n",
              "    .colab-df-convert:hover {\n",
              "      background-color: #E2EBFA;\n",
              "      box-shadow: 0px 1px 2px rgba(60, 64, 67, 0.3), 0px 1px 3px 1px rgba(60, 64, 67, 0.15);\n",
              "      fill: #174EA6;\n",
              "    }\n",
              "\n",
              "    [theme=dark] .colab-df-convert {\n",
              "      background-color: #3B4455;\n",
              "      fill: #D2E3FC;\n",
              "    }\n",
              "\n",
              "    [theme=dark] .colab-df-convert:hover {\n",
              "      background-color: #434B5C;\n",
              "      box-shadow: 0px 1px 3px 1px rgba(0, 0, 0, 0.15);\n",
              "      filter: drop-shadow(0px 1px 2px rgba(0, 0, 0, 0.3));\n",
              "      fill: #FFFFFF;\n",
              "    }\n",
              "  </style>\n",
              "\n",
              "      <script>\n",
              "        const buttonEl =\n",
              "          document.querySelector('#df-84e0d58a-e3ea-492f-9c07-cad811616e1f button.colab-df-convert');\n",
              "        buttonEl.style.display =\n",
              "          google.colab.kernel.accessAllowed ? 'block' : 'none';\n",
              "\n",
              "        async function convertToInteractive(key) {\n",
              "          const element = document.querySelector('#df-84e0d58a-e3ea-492f-9c07-cad811616e1f');\n",
              "          const dataTable =\n",
              "            await google.colab.kernel.invokeFunction('convertToInteractive',\n",
              "                                                     [key], {});\n",
              "          if (!dataTable) return;\n",
              "\n",
              "          const docLinkHtml = 'Like what you see? Visit the ' +\n",
              "            '<a target=\"_blank\" href=https://colab.research.google.com/notebooks/data_table.ipynb>data table notebook</a>'\n",
              "            + ' to learn more about interactive tables.';\n",
              "          element.innerHTML = '';\n",
              "          dataTable['output_type'] = 'display_data';\n",
              "          await google.colab.output.renderOutput(dataTable, element);\n",
              "          const docLink = document.createElement('div');\n",
              "          docLink.innerHTML = docLinkHtml;\n",
              "          element.appendChild(docLink);\n",
              "        }\n",
              "      </script>\n",
              "    </div>\n",
              "  </div>\n",
              "  "
            ]
          },
          "metadata": {},
          "execution_count": 263
        }
      ],
      "source": [
        "data.head()"
      ],
      "id": "206305c3"
    },
    {
      "cell_type": "markdown",
      "metadata": {
        "id": "bcc03ad0"
      },
      "source": [
        "## Feature Selection using Pearson's Correlation"
      ],
      "id": "bcc03ad0"
    },
    {
      "cell_type": "code",
      "execution_count": 264,
      "metadata": {
        "colab": {
          "base_uri": "https://localhost:8080/",
          "height": 711
        },
        "id": "9c776186",
        "outputId": "4c22b90d-0556-4835-8bb3-6bee48b0c59a"
      },
      "outputs": [
        {
          "output_type": "execute_result",
          "data": {
            "text/plain": [
              "<AxesSubplot:>"
            ]
          },
          "metadata": {},
          "execution_count": 264
        },
        {
          "output_type": "display_data",
          "data": {
            "text/plain": [
              "<Figure size 864x720 with 2 Axes>"
            ],
            "image/png": "[encoded data removed]"
          },
          "metadata": {
            "needs_background": "light"
          }
        }
      ],
      "source": [
        "plt.figure(figsize=(12,10))\n",
        "sns.heatmap(data.corr(),annot=True)"
      ],
      "id": "9c776186"
    },
    {
      "cell_type": "markdown",
      "metadata": {
        "id": "ab5dfc2b"
      },
      "source": [
        "## Model Selection"
      ],
      "id": "ab5dfc2b"
    },
    {
      "cell_type": "code",
      "execution_count": 265,
      "metadata": {
        "id": "f9c7e83e"
      },
      "outputs": [],
      "source": [
        "from sklearn.model_selection import train_test_split"
      ],
      "id": "f9c7e83e"
    },
    {
      "cell_type": "code",
      "execution_count": 266,
      "metadata": {
        "id": "78f8e395"
      },
      "outputs": [],
      "source": [
        "# Independent Variables are stored in X\n",
        "# Dependent Variable is stored in y\n",
        "X = data.drop(['gender','ssc_board','hsc_board','ssc_board','hsc_subject','mba_percent','undergrad_degree','specialisation','emp_test_percentage','status','work_experience'],axis=1)\n",
        "y = data.iloc[:,-1]"
      ],
      "id": "78f8e395"
    },
    {
      "cell_type": "code",
      "execution_count": 267,
      "metadata": {
        "colab": {
          "base_uri": "https://localhost:8080/",
          "height": 206
        },
        "id": "da4682a7",
        "outputId": "b269b496-aa62-4e04-ff8b-30aada33dda8"
      },
      "outputs": [
        {
          "output_type": "execute_result",
          "data": {
            "text/plain": [
              "   ssc_percentage  hsc_percentage  degree_percentage\n",
              "0           67.00           91.00              58.00\n",
              "1           79.33           78.33              77.48\n",
              "2           65.00           68.00              64.00\n",
              "3           56.00           52.00              52.00\n",
              "4           85.80           73.60              73.30"
            ],
            "text/html": [
              "\n",
              "  <div id=\"df-fda45b17-50e7-45d4-892b-f4ffabcd91b9\">\n",
              "    <div class=\"colab-df-container\">\n",
              "      <div>\n",
              "<style scoped>\n",
              "    .dataframe tbody tr th:only-of-type {\n",
              "        vertical-align: middle;\n",
              "    }\n",
              "\n",
              "    .dataframe tbody tr th {\n",
              "        vertical-align: top;\n",
              "    }\n",
              "\n",
              "    .dataframe thead th {\n",
              "        text-align: right;\n",
              "    }\n",
              "</style>\n",
              "<table border=\"1\" class=\"dataframe\">\n",
              "  <thead>\n",
              "    <tr style=\"text-align: right;\">\n",
              "      <th></th>\n",
              "      <th>ssc_percentage</th>\n",
              "      <th>hsc_percentage</th>\n",
              "      <th>degree_percentage</th>\n",
              "    </tr>\n",
              "  </thead>\n",
              "  <tbody>\n",
              "    <tr>\n",
              "      <th>0</th>\n",
              "      <td>67.00</td>\n",
              "      <td>91.00</td>\n",
              "      <td>58.00</td>\n",
              "    </tr>\n",
              "    <tr>\n",
              "      <th>1</th>\n",
              "      <td>79.33</td>\n",
              "      <td>78.33</td>\n",
              "      <td>77.48</td>\n",
              "    </tr>\n",
              "    <tr>\n",
              "      <th>2</th>\n",
              "      <td>65.00</td>\n",
              "      <td>68.00</td>\n",
              "      <td>64.00</td>\n",
              "    </tr>\n",
              "    <tr>\n",
              "      <th>3</th>\n",
              "      <td>56.00</td>\n",
              "      <td>52.00</td>\n",
              "      <td>52.00</td>\n",
              "    </tr>\n",
              "    <tr>\n",
              "      <th>4</th>\n",
              "      <td>85.80</td>\n",
              "      <td>73.60</td>\n",
              "      <td>73.30</td>\n",
              "    </tr>\n",
              "  </tbody>\n",
              "</table>\n",
              "</div>\n",
              "      <button class=\"colab-df-convert\" onclick=\"convertToInteractive('df-fda45b17-50e7-45d4-892b-f4ffabcd91b9')\"\n",
              "              title=\"Convert this dataframe to an interactive table.\"\n",
              "              style=\"display:none;\">\n",
              "        \n",
              "  <svg xmlns=\"http://www.w3.org/2000/svg\" height=\"24px\"viewBox=\"0 0 24 24\"\n",
              "       width=\"24px\">\n",
              "    <path d=\"M0 0h24v24H0V0z\" fill=\"none\"/>\n",
              "    <path d=\"M18.56 5.44l.94 2.06.94-2.06 2.06-.94-2.06-.94-.94-2.06-.94 2.06-2.06.94zm-11 1L8.5 8.5l.94-2.06 2.06-.94-2.06-.94L8.5 2.5l-.94 2.06-2.06.94zm10 10l.94 2.06.94-2.06 2.06-.94-2.06-.94-.94-2.06-.94 2.06-2.06.94z\"/><path d=\"M17.41 7.96l-1.37-1.37c-.4-.4-.92-.59-1.43-.59-.52 0-1.04.2-1.43.59L10.3 9.45l-7.72 7.72c-.78.78-.78 2.05 0 2.83L4 21.41c.39.39.9.59 1.41.59.51 0 1.02-.2 1.41-.59l7.78-7.78 2.81-2.81c.8-.78.8-2.07 0-2.86zM5.41 20L4 18.59l7.72-7.72 1.47 1.35L5.41 20z\"/>\n",
              "  </svg>\n",
              "      </button>\n",
              "      \n",
              "  <style>\n",
              "    .colab-df-container {\n",
              "      display:flex;\n",
              "      flex-wrap:wrap;\n",
              "      gap: 12px;\n",
              "    }\n",
              "\n",
              "    .colab-df-convert {\n",
              "      background-color: #E8F0FE;\n",
              "      border: none;\n",
              "      border-radius: 50%;\n",
              "      cursor: pointer;\n",
              "      display: none;\n",
              "      fill: #1967D2;\n",
              "      height: 32px;\n",
              "      padding: 0 0 0 0;\n",
              "      width: 32px;\n",
              "    }\n",
              "\n",
              "    .colab-df-convert:hover {\n",
              "      background-color: #E2EBFA;\n",
              "      box-shadow: 0px 1px 2px rgba(60, 64, 67, 0.3), 0px 1px 3px 1px rgba(60, 64, 67, 0.15);\n",
              "      fill: #174EA6;\n",
              "    }\n",
              "\n",
              "    [theme=dark] .colab-df-convert {\n",
              "      background-color: #3B4455;\n",
              "      fill: #D2E3FC;\n",
              "    }\n",
              "\n",
              "    [theme=dark] .colab-df-convert:hover {\n",
              "      background-color: #434B5C;\n",
              "      box-shadow: 0px 1px 3px 1px rgba(0, 0, 0, 0.15);\n",
              "      filter: drop-shadow(0px 1px 2px rgba(0, 0, 0, 0.3));\n",
              "      fill: #FFFFFF;\n",
              "    }\n",
              "  </style>\n",
              "\n",
              "      <script>\n",
              "        const buttonEl =\n",
              "          document.querySelector('#df-fda45b17-50e7-45d4-892b-f4ffabcd91b9 button.colab-df-convert');\n",
              "        buttonEl.style.display =\n",
              "          google.colab.kernel.accessAllowed ? 'block' : 'none';\n",
              "\n",
              "        async function convertToInteractive(key) {\n",
              "          const element = document.querySelector('#df-fda45b17-50e7-45d4-892b-f4ffabcd91b9');\n",
              "          const dataTable =\n",
              "            await google.colab.kernel.invokeFunction('convertToInteractive',\n",
              "                                                     [key], {});\n",
              "          if (!dataTable) return;\n",
              "\n",
              "          const docLinkHtml = 'Like what you see? Visit the ' +\n",
              "            '<a target=\"_blank\" href=https://colab.research.google.com/notebooks/data_table.ipynb>data table notebook</a>'\n",
              "            + ' to learn more about interactive tables.';\n",
              "          element.innerHTML = '';\n",
              "          dataTable['output_type'] = 'display_data';\n",
              "          await google.colab.output.renderOutput(dataTable, element);\n",
              "          const docLink = document.createElement('div');\n",
              "          docLink.innerHTML = docLinkHtml;\n",
              "          element.appendChild(docLink);\n",
              "        }\n",
              "      </script>\n",
              "    </div>\n",
              "  </div>\n",
              "  "
            ]
          },
          "metadata": {},
          "execution_count": 267
        }
      ],
      "source": [
        "X.head()"
      ],
      "id": "da4682a7"
    },
    {
      "cell_type": "code",
      "source": [
        "y.head()"
      ],
      "metadata": {
        "colab": {
          "base_uri": "https://localhost:8080/"
        },
        "id": "9B_9vmXe3yPa",
        "outputId": "516a2b19-6db7-4969-b5ff-6380fe562f58"
      },
      "id": "9B_9vmXe3yPa",
      "execution_count": 268,
      "outputs": [
        {
          "output_type": "execute_result",
          "data": {
            "text/plain": [
              "0    1\n",
              "1    1\n",
              "2    1\n",
              "3    0\n",
              "4    1\n",
              "Name: status, dtype: int64"
            ]
          },
          "metadata": {},
          "execution_count": 268
        }
      ]
    },
    {
      "cell_type": "code",
      "execution_count": 269,
      "metadata": {
        "colab": {
          "base_uri": "https://localhost:8080/"
        },
        "id": "4f5130dd",
        "outputId": "46f96b64-94ea-45ee-e3a6-4f33c7c57cb1"
      },
      "outputs": [
        {
          "output_type": "execute_result",
          "data": {
            "text/plain": [
              "(207,)"
            ]
          },
          "metadata": {},
          "execution_count": 269
        }
      ],
      "source": [
        "y.shape"
      ],
      "id": "4f5130dd"
    },
    {
      "cell_type": "markdown",
      "metadata": {
        "id": "b882013a"
      },
      "source": [
        "## Train - Test Split"
      ],
      "id": "b882013a"
    },
    {
      "cell_type": "code",
      "execution_count": 270,
      "metadata": {
        "id": "1e529e28"
      },
      "outputs": [],
      "source": [
        "x_train,x_test,y_train,y_test = train_test_split(X,y,test_size=0.1,random_state=0)"
      ],
      "id": "1e529e28"
    },
    {
      "cell_type": "code",
      "execution_count": 271,
      "metadata": {
        "id": "NKZ0iHitDVYU"
      },
      "outputs": [],
      "source": [
        "# Lưu tập dữ liệu train vào file CSV\n",
        "train_data = pd.concat([x_train, y_train], axis=1)\n",
        "train_data.to_csv('train_data.csv', index=False)\n",
        "\n",
        "# Lưu tập dữ liệu test vào file CSV\n",
        "test_data = pd.concat([x_test, y_test], axis=1)\n",
        "test_data.to_csv('test_data.csv', index=False)"
      ],
      "id": "NKZ0iHitDVYU"
    },
    {
      "cell_type": "code",
      "source": [
        "x_train"
      ],
      "metadata": {
        "id": "1cX-k-O4VE0V",
        "colab": {
          "base_uri": "https://localhost:8080/",
          "height": 423
        },
        "outputId": "f44ae502-84e6-4837-89be-737ab04b591f"
      },
      "id": "1cX-k-O4VE0V",
      "execution_count": 272,
      "outputs": [
        {
          "output_type": "execute_result",
          "data": {
            "text/plain": [
              "     ssc_percentage  hsc_percentage  degree_percentage\n",
              "15             65.0            75.0              69.00\n",
              "7              82.0            64.0              66.00\n",
              "58             74.0            62.0              68.00\n",
              "95             73.0            78.0              65.00\n",
              "162            74.2            87.6              77.25\n",
              "..              ...             ...                ...\n",
              "70             82.0            61.0              62.00\n",
              "199            69.0            65.0              57.00\n",
              "121            64.0            67.0              69.60\n",
              "50             75.2            73.2              68.40\n",
              "179            77.8            64.0              64.20\n",
              "\n",
              "[186 rows x 3 columns]"
            ],
            "text/html": [
              "\n",
              "  <div id=\"df-d882b35b-82f2-4798-86fc-a204792e39a0\">\n",
              "    <div class=\"colab-df-container\">\n",
              "      <div>\n",
              "<style scoped>\n",
              "    .dataframe tbody tr th:only-of-type {\n",
              "        vertical-align: middle;\n",
              "    }\n",
              "\n",
              "    .dataframe tbody tr th {\n",
              "        vertical-align: top;\n",
              "    }\n",
              "\n",
              "    .dataframe thead th {\n",
              "        text-align: right;\n",
              "    }\n",
              "</style>\n",
              "<table border=\"1\" class=\"dataframe\">\n",
              "  <thead>\n",
              "    <tr style=\"text-align: right;\">\n",
              "      <th></th>\n",
              "      <th>ssc_percentage</th>\n",
              "      <th>hsc_percentage</th>\n",
              "      <th>degree_percentage</th>\n",
              "    </tr>\n",
              "  </thead>\n",
              "  <tbody>\n",
              "    <tr>\n",
              "      <th>15</th>\n",
              "      <td>65.0</td>\n",
              "      <td>75.0</td>\n",
              "      <td>69.00</td>\n",
              "    </tr>\n",
              "    <tr>\n",
              "      <th>7</th>\n",
              "      <td>82.0</td>\n",
              "      <td>64.0</td>\n",
              "      <td>66.00</td>\n",
              "    </tr>\n",
              "    <tr>\n",
              "      <th>58</th>\n",
              "      <td>74.0</td>\n",
              "      <td>62.0</td>\n",
              "      <td>68.00</td>\n",
              "    </tr>\n",
              "    <tr>\n",
              "      <th>95</th>\n",
              "      <td>73.0</td>\n",
              "      <td>78.0</td>\n",
              "      <td>65.00</td>\n",
              "    </tr>\n",
              "    <tr>\n",
              "      <th>162</th>\n",
              "      <td>74.2</td>\n",
              "      <td>87.6</td>\n",
              "      <td>77.25</td>\n",
              "    </tr>\n",
              "    <tr>\n",
              "      <th>...</th>\n",
              "      <td>...</td>\n",
              "      <td>...</td>\n",
              "      <td>...</td>\n",
              "    </tr>\n",
              "    <tr>\n",
              "      <th>70</th>\n",
              "      <td>82.0</td>\n",
              "      <td>61.0</td>\n",
              "      <td>62.00</td>\n",
              "    </tr>\n",
              "    <tr>\n",
              "      <th>199</th>\n",
              "      <td>69.0</td>\n",
              "      <td>65.0</td>\n",
              "      <td>57.00</td>\n",
              "    </tr>\n",
              "    <tr>\n",
              "      <th>121</th>\n",
              "      <td>64.0</td>\n",
              "      <td>67.0</td>\n",
              "      <td>69.60</td>\n",
              "    </tr>\n",
              "    <tr>\n",
              "      <th>50</th>\n",
              "      <td>75.2</td>\n",
              "      <td>73.2</td>\n",
              "      <td>68.40</td>\n",
              "    </tr>\n",
              "    <tr>\n",
              "      <th>179</th>\n",
              "      <td>77.8</td>\n",
              "      <td>64.0</td>\n",
              "      <td>64.20</td>\n",
              "    </tr>\n",
              "  </tbody>\n",
              "</table>\n",
              "<p>186 rows × 3 columns</p>\n",
              "</div>\n",
              "      <button class=\"colab-df-convert\" onclick=\"convertToInteractive('df-d882b35b-82f2-4798-86fc-a204792e39a0')\"\n",
              "              title=\"Convert this dataframe to an interactive table.\"\n",
              "              style=\"display:none;\">\n",
              "        \n",
              "  <svg xmlns=\"http://www.w3.org/2000/svg\" height=\"24px\"viewBox=\"0 0 24 24\"\n",
              "       width=\"24px\">\n",
              "    <path d=\"M0 0h24v24H0V0z\" fill=\"none\"/>\n",
              "    <path d=\"M18.56 5.44l.94 2.06.94-2.06 2.06-.94-2.06-.94-.94-2.06-.94 2.06-2.06.94zm-11 1L8.5 8.5l.94-2.06 2.06-.94-2.06-.94L8.5 2.5l-.94 2.06-2.06.94zm10 10l.94 2.06.94-2.06 2.06-.94-2.06-.94-.94-2.06-.94 2.06-2.06.94z\"/><path d=\"M17.41 7.96l-1.37-1.37c-.4-.4-.92-.59-1.43-.59-.52 0-1.04.2-1.43.59L10.3 9.45l-7.72 7.72c-.78.78-.78 2.05 0 2.83L4 21.41c.39.39.9.59 1.41.59.51 0 1.02-.2 1.41-.59l7.78-7.78 2.81-2.81c.8-.78.8-2.07 0-2.86zM5.41 20L4 18.59l7.72-7.72 1.47 1.35L5.41 20z\"/>\n",
              "  </svg>\n",
              "      </button>\n",
              "      \n",
              "  <style>\n",
              "    .colab-df-container {\n",
              "      display:flex;\n",
              "      flex-wrap:wrap;\n",
              "      gap: 12px;\n",
              "    }\n",
              "\n",
              "    .colab-df-convert {\n",
              "      background-color: #E8F0FE;\n",
              "      border: none;\n",
              "      border-radius: 50%;\n",
              "      cursor: pointer;\n",
              "      display: none;\n",
              "      fill: #1967D2;\n",
              "      height: 32px;\n",
              "      padding: 0 0 0 0;\n",
              "      width: 32px;\n",
              "    }\n",
              "\n",
              "    .colab-df-convert:hover {\n",
              "      background-color: #E2EBFA;\n",
              "      box-shadow: 0px 1px 2px rgba(60, 64, 67, 0.3), 0px 1px 3px 1px rgba(60, 64, 67, 0.15);\n",
              "      fill: #174EA6;\n",
              "    }\n",
              "\n",
              "    [theme=dark] .colab-df-convert {\n",
              "      background-color: #3B4455;\n",
              "      fill: #D2E3FC;\n",
              "    }\n",
              "\n",
              "    [theme=dark] .colab-df-convert:hover {\n",
              "      background-color: #434B5C;\n",
              "      box-shadow: 0px 1px 3px 1px rgba(0, 0, 0, 0.15);\n",
              "      filter: drop-shadow(0px 1px 2px rgba(0, 0, 0, 0.3));\n",
              "      fill: #FFFFFF;\n",
              "    }\n",
              "  </style>\n",
              "\n",
              "      <script>\n",
              "        const buttonEl =\n",
              "          document.querySelector('#df-d882b35b-82f2-4798-86fc-a204792e39a0 button.colab-df-convert');\n",
              "        buttonEl.style.display =\n",
              "          google.colab.kernel.accessAllowed ? 'block' : 'none';\n",
              "\n",
              "        async function convertToInteractive(key) {\n",
              "          const element = document.querySelector('#df-d882b35b-82f2-4798-86fc-a204792e39a0');\n",
              "          const dataTable =\n",
              "            await google.colab.kernel.invokeFunction('convertToInteractive',\n",
              "                                                     [key], {});\n",
              "          if (!dataTable) return;\n",
              "\n",
              "          const docLinkHtml = 'Like what you see? Visit the ' +\n",
              "            '<a target=\"_blank\" href=https://colab.research.google.com/notebooks/data_table.ipynb>data table notebook</a>'\n",
              "            + ' to learn more about interactive tables.';\n",
              "          element.innerHTML = '';\n",
              "          dataTable['output_type'] = 'display_data';\n",
              "          await google.colab.output.renderOutput(dataTable, element);\n",
              "          const docLink = document.createElement('div');\n",
              "          docLink.innerHTML = docLinkHtml;\n",
              "          element.appendChild(docLink);\n",
              "        }\n",
              "      </script>\n",
              "    </div>\n",
              "  </div>\n",
              "  "
            ]
          },
          "metadata": {},
          "execution_count": 272
        }
      ]
    },
    {
      "cell_type": "code",
      "source": [
        "y_train"
      ],
      "metadata": {
        "colab": {
          "base_uri": "https://localhost:8080/"
        },
        "id": "9vse1uof4DVI",
        "outputId": "6fa1c221-ab49-49be-9234-dd3d679cdb11"
      },
      "id": "9vse1uof4DVI",
      "execution_count": 273,
      "outputs": [
        {
          "output_type": "execute_result",
          "data": {
            "text/plain": [
              "15     1\n",
              "7      1\n",
              "58     1\n",
              "95     1\n",
              "162    1\n",
              "      ..\n",
              "70     1\n",
              "199    1\n",
              "121    1\n",
              "50     1\n",
              "179    0\n",
              "Name: status, Length: 186, dtype: int64"
            ]
          },
          "metadata": {},
          "execution_count": 273
        }
      ]
    },
    {
      "cell_type": "code",
      "source": [
        " # Visualize the data\n",
        "plt.scatter(x_train.values[:, 0], x_train.values[:, 1], c=y_train, s=40, cmap=plt.cm.Spectral);\n",
        "train_X = x_train.T\n",
        "#train_X = x_train.values[:, 0].reshape(1, -1)\n",
        "train_Y = y_train.values.reshape((1, y_train.values.shape[0]))\n",
        "test_X = x_test.T\n",
        "#test_X = x_test.values[:, 0].reshape(1, -1)\n",
        "test_Y = y_test.values.reshape((1, x_test.values.shape[0]))"
      ],
      "metadata": {
        "colab": {
          "base_uri": "https://localhost:8080/",
          "height": 320
        },
        "id": "VMMLuDNRUJ0d",
        "outputId": "e98e2111-d997-424f-a488-a32f44481c0e"
      },
      "id": "VMMLuDNRUJ0d",
      "execution_count": 274,
      "outputs": [
        {
          "output_type": "display_data",
          "data": {
            "text/plain": [
              "<Figure size 504x360 with 1 Axes>"
            ],
            "image/png": "[encoded data removed]"
          },
          "metadata": {
            "needs_background": "light"
          }
        }
      ]
    },
    {
      "cell_type": "code",
      "source": [
        "print(train_X.shape)\n",
        "train_X\n",
        "print(test_X.shape)\n",
        "test_X"
      ],
      "metadata": {
        "colab": {
          "base_uri": "https://localhost:8080/",
          "height": 210
        },
        "id": "TcDiJqKV65HH",
        "outputId": "a4dfe01d-1289-47cc-d4bb-fde65e322927"
      },
      "id": "TcDiJqKV65HH",
      "execution_count": 275,
      "outputs": [
        {
          "output_type": "stream",
          "name": "stdout",
          "text": [
            "(3, 186)\n",
            "(3, 21)\n"
          ]
        },
        {
          "output_type": "execute_result",
          "data": {
            "text/plain": [
              "                    12    83    34     5     167   86    119   126   93   \\\n",
              "ssc_percentage     47.0  84.0  62.0  55.00  67.9  62.0  60.8  79.0  52.0   \n",
              "hsc_percentage     55.0  79.0  51.0  49.80  62.0  63.0  68.4  61.0  62.0   \n",
              "degree_percentage  65.0  68.0  52.0  67.25  67.0  64.0  64.6  75.5  54.0   \n",
              "\n",
              "                    136  ...   160   55    195   99    89    198   38    69   \\\n",
              "ssc_percentage     47.0  ...  87.0  60.4  66.0  54.0  84.0  67.0  73.0  73.0   \n",
              "hsc_percentage     59.0  ...  74.0  66.6  76.0  82.0  75.0  70.0  58.0  73.0   \n",
              "degree_percentage  64.0  ...  65.0  65.0  72.0  63.0  69.0  65.0  66.0  66.0   \n",
              "\n",
              "                    18    175  \n",
              "ssc_percentage     63.0  63.0  \n",
              "hsc_percentage     66.0  62.0  \n",
              "degree_percentage  64.0  65.0  \n",
              "\n",
              "[3 rows x 21 columns]"
            ],
            "text/html": [
              "\n",
              "  <div id=\"df-85128987-a190-44a1-b73f-3ca27bf0af0e\">\n",
              "    <div class=\"colab-df-container\">\n",
              "      <div>\n",
              "<style scoped>\n",
              "    .dataframe tbody tr th:only-of-type {\n",
              "        vertical-align: middle;\n",
              "    }\n",
              "\n",
              "    .dataframe tbody tr th {\n",
              "        vertical-align: top;\n",
              "    }\n",
              "\n",
              "    .dataframe thead th {\n",
              "        text-align: right;\n",
              "    }\n",
              "</style>\n",
              "<table border=\"1\" class=\"dataframe\">\n",
              "  <thead>\n",
              "    <tr style=\"text-align: right;\">\n",
              "      <th></th>\n",
              "      <th>12</th>\n",
              "      <th>83</th>\n",
              "      <th>34</th>\n",
              "      <th>5</th>\n",
              "      <th>167</th>\n",
              "      <th>86</th>\n",
              "      <th>119</th>\n",
              "      <th>126</th>\n",
              "      <th>93</th>\n",
              "      <th>136</th>\n",
              "      <th>...</th>\n",
              "      <th>160</th>\n",
              "      <th>55</th>\n",
              "      <th>195</th>\n",
              "      <th>99</th>\n",
              "      <th>89</th>\n",
              "      <th>198</th>\n",
              "      <th>38</th>\n",
              "      <th>69</th>\n",
              "      <th>18</th>\n",
              "      <th>175</th>\n",
              "    </tr>\n",
              "  </thead>\n",
              "  <tbody>\n",
              "    <tr>\n",
              "      <th>ssc_percentage</th>\n",
              "      <td>47.0</td>\n",
              "      <td>84.0</td>\n",
              "      <td>62.0</td>\n",
              "      <td>55.00</td>\n",
              "      <td>67.9</td>\n",
              "      <td>62.0</td>\n",
              "      <td>60.8</td>\n",
              "      <td>79.0</td>\n",
              "      <td>52.0</td>\n",
              "      <td>47.0</td>\n",
              "      <td>...</td>\n",
              "      <td>87.0</td>\n",
              "      <td>60.4</td>\n",
              "      <td>66.0</td>\n",
              "      <td>54.0</td>\n",
              "      <td>84.0</td>\n",
              "      <td>67.0</td>\n",
              "      <td>73.0</td>\n",
              "      <td>73.0</td>\n",
              "      <td>63.0</td>\n",
              "      <td>63.0</td>\n",
              "    </tr>\n",
              "    <tr>\n",
              "      <th>hsc_percentage</th>\n",
              "      <td>55.0</td>\n",
              "      <td>79.0</td>\n",
              "      <td>51.0</td>\n",
              "      <td>49.80</td>\n",
              "      <td>62.0</td>\n",
              "      <td>63.0</td>\n",
              "      <td>68.4</td>\n",
              "      <td>61.0</td>\n",
              "      <td>62.0</td>\n",
              "      <td>59.0</td>\n",
              "      <td>...</td>\n",
              "      <td>74.0</td>\n",
              "      <td>66.6</td>\n",
              "      <td>76.0</td>\n",
              "      <td>82.0</td>\n",
              "      <td>75.0</td>\n",
              "      <td>70.0</td>\n",
              "      <td>58.0</td>\n",
              "      <td>73.0</td>\n",
              "      <td>66.0</td>\n",
              "      <td>62.0</td>\n",
              "    </tr>\n",
              "    <tr>\n",
              "      <th>degree_percentage</th>\n",
              "      <td>65.0</td>\n",
              "      <td>68.0</td>\n",
              "      <td>52.0</td>\n",
              "      <td>67.25</td>\n",
              "      <td>67.0</td>\n",
              "      <td>64.0</td>\n",
              "      <td>64.6</td>\n",
              "      <td>75.5</td>\n",
              "      <td>54.0</td>\n",
              "      <td>64.0</td>\n",
              "      <td>...</td>\n",
              "      <td>65.0</td>\n",
              "      <td>65.0</td>\n",
              "      <td>72.0</td>\n",
              "      <td>63.0</td>\n",
              "      <td>69.0</td>\n",
              "      <td>65.0</td>\n",
              "      <td>66.0</td>\n",
              "      <td>66.0</td>\n",
              "      <td>64.0</td>\n",
              "      <td>65.0</td>\n",
              "    </tr>\n",
              "  </tbody>\n",
              "</table>\n",
              "<p>3 rows × 21 columns</p>\n",
              "</div>\n",
              "      <button class=\"colab-df-convert\" onclick=\"convertToInteractive('df-85128987-a190-44a1-b73f-3ca27bf0af0e')\"\n",
              "              title=\"Convert this dataframe to an interactive table.\"\n",
              "              style=\"display:none;\">\n",
              "        \n",
              "  <svg xmlns=\"http://www.w3.org/2000/svg\" height=\"24px\"viewBox=\"0 0 24 24\"\n",
              "       width=\"24px\">\n",
              "    <path d=\"M0 0h24v24H0V0z\" fill=\"none\"/>\n",
              "    <path d=\"M18.56 5.44l.94 2.06.94-2.06 2.06-.94-2.06-.94-.94-2.06-.94 2.06-2.06.94zm-11 1L8.5 8.5l.94-2.06 2.06-.94-2.06-.94L8.5 2.5l-.94 2.06-2.06.94zm10 10l.94 2.06.94-2.06 2.06-.94-2.06-.94-.94-2.06-.94 2.06-2.06.94z\"/><path d=\"M17.41 7.96l-1.37-1.37c-.4-.4-.92-.59-1.43-.59-.52 0-1.04.2-1.43.59L10.3 9.45l-7.72 7.72c-.78.78-.78 2.05 0 2.83L4 21.41c.39.39.9.59 1.41.59.51 0 1.02-.2 1.41-.59l7.78-7.78 2.81-2.81c.8-.78.8-2.07 0-2.86zM5.41 20L4 18.59l7.72-7.72 1.47 1.35L5.41 20z\"/>\n",
              "  </svg>\n",
              "      </button>\n",
              "      \n",
              "  <style>\n",
              "    .colab-df-container {\n",
              "      display:flex;\n",
              "      flex-wrap:wrap;\n",
              "      gap: 12px;\n",
              "    }\n",
              "\n",
              "    .colab-df-convert {\n",
              "      background-color: #E8F0FE;\n",
              "      border: none;\n",
              "      border-radius: 50%;\n",
              "      cursor: pointer;\n",
              "      display: none;\n",
              "      fill: #1967D2;\n",
              "      height: 32px;\n",
              "      padding: 0 0 0 0;\n",
              "      width: 32px;\n",
              "    }\n",
              "\n",
              "    .colab-df-convert:hover {\n",
              "      background-color: #E2EBFA;\n",
              "      box-shadow: 0px 1px 2px rgba(60, 64, 67, 0.3), 0px 1px 3px 1px rgba(60, 64, 67, 0.15);\n",
              "      fill: #174EA6;\n",
              "    }\n",
              "\n",
              "    [theme=dark] .colab-df-convert {\n",
              "      background-color: #3B4455;\n",
              "      fill: #D2E3FC;\n",
              "    }\n",
              "\n",
              "    [theme=dark] .colab-df-convert:hover {\n",
              "      background-color: #434B5C;\n",
              "      box-shadow: 0px 1px 3px 1px rgba(0, 0, 0, 0.15);\n",
              "      filter: drop-shadow(0px 1px 2px rgba(0, 0, 0, 0.3));\n",
              "      fill: #FFFFFF;\n",
              "    }\n",
              "  </style>\n",
              "\n",
              "      <script>\n",
              "        const buttonEl =\n",
              "          document.querySelector('#df-85128987-a190-44a1-b73f-3ca27bf0af0e button.colab-df-convert');\n",
              "        buttonEl.style.display =\n",
              "          google.colab.kernel.accessAllowed ? 'block' : 'none';\n",
              "\n",
              "        async function convertToInteractive(key) {\n",
              "          const element = document.querySelector('#df-85128987-a190-44a1-b73f-3ca27bf0af0e');\n",
              "          const dataTable =\n",
              "            await google.colab.kernel.invokeFunction('convertToInteractive',\n",
              "                                                     [key], {});\n",
              "          if (!dataTable) return;\n",
              "\n",
              "          const docLinkHtml = 'Like what you see? Visit the ' +\n",
              "            '<a target=\"_blank\" href=https://colab.research.google.com/notebooks/data_table.ipynb>data table notebook</a>'\n",
              "            + ' to learn more about interactive tables.';\n",
              "          element.innerHTML = '';\n",
              "          dataTable['output_type'] = 'display_data';\n",
              "          await google.colab.output.renderOutput(dataTable, element);\n",
              "          const docLink = document.createElement('div');\n",
              "          docLink.innerHTML = docLinkHtml;\n",
              "          element.appendChild(docLink);\n",
              "        }\n",
              "      </script>\n",
              "    </div>\n",
              "  </div>\n",
              "  "
            ]
          },
          "metadata": {},
          "execution_count": 275
        }
      ]
    },
    {
      "cell_type": "code",
      "source": [
        "print(train_Y.shape)\n",
        "train_Y\n",
        "print(test_Y.shape)\n",
        "test_Y"
      ],
      "metadata": {
        "colab": {
          "base_uri": "https://localhost:8080/"
        },
        "id": "eH4jgkA363GM",
        "outputId": "edd3a704-2572-4465-808d-94c7fa2d705b"
      },
      "id": "eH4jgkA363GM",
      "execution_count": 276,
      "outputs": [
        {
          "output_type": "stream",
          "name": "stdout",
          "text": [
            "(1, 186)\n",
            "(1, 21)\n"
          ]
        },
        {
          "output_type": "execute_result",
          "data": {
            "text/plain": [
              "array([[0, 1, 0, 0, 0, 1, 1, 1, 0, 0, 1, 1, 1, 1, 0, 1, 0, 1, 1, 0, 0]])"
            ]
          },
          "metadata": {},
          "execution_count": 276
        }
      ]
    },
    {
      "cell_type": "markdown",
      "metadata": {
        "id": "PMcmfo2tGmLJ"
      },
      "source": [
        "# Model Building"
      ],
      "id": "PMcmfo2tGmLJ"
    },
    {
      "cell_type": "markdown",
      "metadata": {
        "id": "Cbig2DljjIae"
      },
      "source": [
        "## Neural Network Model"
      ],
      "id": "Cbig2DljjIae"
    },
    {
      "cell_type": "markdown",
      "metadata": {
        "id": "GduwIqJXkMqy"
      },
      "source": [
        "### Initialization\n",
        "A well-chosen initialization can:\n",
        "- Speed up the convergence of gradient descent\n",
        "- Increase the odds of gradient descent converging to a lower training (and generalization) error "
      ],
      "id": "GduwIqJXkMqy"
    },
    {
      "cell_type": "code",
      "source": [
        "# from init_utils import sigmoid, relu, compute_loss, forward_propagation, backward_propagation\n",
        "# from init_utils import update_parameters, predict, load_dataset, plot_decision_boundary, predict_dec\n",
        "\n",
        "import init_utils as util"
      ],
      "metadata": {
        "id": "gpAwtLj6cZU5"
      },
      "id": "gpAwtLj6cZU5",
      "execution_count": 277,
      "outputs": []
    },
    {
      "cell_type": "code",
      "execution_count": 278,
      "metadata": {
        "id": "EYTtM6mA02og"
      },
      "outputs": [],
      "source": [
        "def initialization_model(X, Y, learning_rate = 0.01, num_iterations = 15000, print_cost = True, initialization = \"he\"):\n",
        "    \"\"\"\n",
        "    Implements a three-layer neural network: LINEAR->RELU->LINEAR->RELU->LINEAR->SIGMOID.\n",
        "    \n",
        "    Arguments:\n",
        "    X -- input data, of shape (2, number of examples)\n",
        "    Y -- true \"label\" vector (containing 0 for red dots; 1 for blue dots), of shape (1, number of examples)\n",
        "    learning_rate -- learning rate for gradient descent \n",
        "    num_iterations -- number of iterations to run gradient descent\n",
        "    print_cost -- if True, print the cost every 1000 iterations\n",
        "    initialization -- flag to choose which initialization to use (\"zeros\",\"random\" or \"he\")\n",
        "    \n",
        "    Returns:\n",
        "    parameters -- parameters learnt by the model\n",
        "    \"\"\"\n",
        "        \n",
        "    grads = {}\n",
        "    costs = [] # to keep track of the loss\n",
        "    m = X.shape[1] # number of examples\n",
        "    layers_dims = [X.shape[0], 10, 3, 1]\n",
        "    \n",
        "    # Initialize parameters dictionary.\n",
        "    if initialization == \"zeros\":\n",
        "        parameters = initialize_parameters_zeros(layers_dims)\n",
        "    elif initialization == \"random\":\n",
        "        parameters = initialize_parameters_random(layers_dims)\n",
        "    elif initialization == \"he\":\n",
        "        parameters = initialize_parameters_he(layers_dims)\n",
        "\n",
        "    # Loop (gradient descent)\n",
        "\n",
        "    for i in range(num_iterations):\n",
        "\n",
        "        # Forward propagation: LINEAR -> RELU -> LINEAR -> RELU -> LINEAR -> SIGMOID.\n",
        "        a3, cache = util.forward_propagation(X, parameters)\n",
        "        \n",
        "        # Loss\n",
        "        cost = util.compute_loss(a3, Y)\n",
        "\n",
        "        # Backward propagation.\n",
        "        grads = util.backward_propagation(X, Y, cache)\n",
        "        \n",
        "        # Update parameters.\n",
        "        parameters = util.update_parameters(parameters, grads, learning_rate)\n",
        "        \n",
        "        # Print the loss every 1000 iterations\n",
        "        if print_cost and i % 1000 == 0:\n",
        "            print(\"Cost after iteration {}: {}\".format(i, cost))\n",
        "            costs.append(cost)\n",
        "            \n",
        "    # plot the loss\n",
        "    plt.plot(costs)\n",
        "    plt.ylabel('cost')\n",
        "    plt.xlabel('iterations (per hundreds)')\n",
        "    plt.title(\"Learning rate =\" + str(learning_rate))\n",
        "    plt.show()\n",
        "    \n",
        "    return parameters"
      ],
      "id": "EYTtM6mA02og"
    },
    {
      "cell_type": "code",
      "execution_count": 279,
      "metadata": {
        "id": "Cc5Pj7Fq7gjp"
      },
      "outputs": [],
      "source": [
        "# print(x_train.shape)\n",
        "# print(y_train.shape)"
      ],
      "id": "Cc5Pj7Fq7gjp"
    },
    {
      "cell_type": "markdown",
      "metadata": {
        "id": "YuL_oLpaTm_V"
      },
      "source": [
        "#### Zero Initialization"
      ],
      "id": "YuL_oLpaTm_V"
    },
    {
      "cell_type": "code",
      "execution_count": 280,
      "metadata": {
        "id": "P_BKNOJx21SO"
      },
      "outputs": [],
      "source": [
        "# GRADED FUNCTION: initialize_parameters_zeros \n",
        "def initialize_parameters_zeros(layers_dims):\n",
        "    \"\"\"\n",
        "    Arguments:\n",
        "    layer_dims -- python array (list) containing the size of each layer.\n",
        "    \n",
        "    Returns:\n",
        "    parameters -- python dictionary containing your parameters \"W1\", \"b1\", ..., \"WL\", \"bL\":\n",
        "                    W1 -- weight matrix of shape (layers_dims[1], layers_dims[0])\n",
        "                    b1 -- bias vector of shape (layers_dims[1], 1)\n",
        "                    ...\n",
        "                    WL -- weight matrix of shape (layers_dims[L], layers_dims[L-1])\n",
        "                    bL -- bias vector of shape (layers_dims[L], 1)\n",
        "    \"\"\"\n",
        "    \n",
        "    parameters = {}\n",
        "    L = len(layers_dims)            # number of layers in the network\n",
        "    \n",
        "    for l in range(1, L):\n",
        "        parameters['W' + str(l)] = np.zeros((layers_dims[l], layers_dims[l - 1]))\n",
        "        parameters['b' + str(l)] = np.zeros((layers_dims[l], 1))      \n",
        "    return parameters"
      ],
      "id": "P_BKNOJx21SO"
    },
    {
      "cell_type": "code",
      "source": [
        "#parameters = initialize_parameters_zeros([3, 2, 1])\n",
        "# print(\"W1 = \" + str(parameters[\"W1\"]))\n",
        "# print(\"b1 = \" + str(parameters[\"b1\"]))\n",
        "# print(\"W2 = \" + str(parameters[\"W2\"]))\n",
        "# print(\"b2 = \" + str(parameters[\"b2\"]))"
      ],
      "metadata": {
        "id": "wNgjJ8MBmHjS"
      },
      "id": "wNgjJ8MBmHjS",
      "execution_count": 281,
      "outputs": []
    },
    {
      "cell_type": "code",
      "execution_count": 282,
      "metadata": {
        "colab": {
          "base_uri": "https://localhost:8080/",
          "height": 701
        },
        "id": "jhI5HIr_6R1K",
        "outputId": "45262a2b-2fb7-43fc-d532-d3f09578e863"
      },
      "outputs": [
        {
          "output_type": "stream",
          "name": "stdout",
          "text": [
            "Cost after iteration 0: 0.6931471805599454\n",
            "Cost after iteration 1000: 0.5937546449227366\n",
            "Cost after iteration 2000: 0.5925669285049754\n",
            "Cost after iteration 3000: 0.5925469956820177\n",
            "Cost after iteration 4000: 0.5925466447753563\n",
            "Cost after iteration 5000: 0.5925466385584578\n",
            "Cost after iteration 6000: 0.592546638448222\n",
            "Cost after iteration 7000: 0.5925466384462671\n",
            "Cost after iteration 8000: 0.5925466384462323\n",
            "Cost after iteration 9000: 0.5925466384462318\n",
            "Cost after iteration 10000: 0.5925466384462317\n",
            "Cost after iteration 11000: 0.5925466384462318\n",
            "Cost after iteration 12000: 0.5925466384462317\n",
            "Cost after iteration 13000: 0.5925466384462317\n",
            "Cost after iteration 14000: 0.5925466384462317\n"
          ]
        },
        {
          "output_type": "display_data",
          "data": {
            "text/plain": [
              "<Figure size 504x360 with 1 Axes>"
            ],
            "image/png": "[encoded data removed]"
          },
          "metadata": {
            "needs_background": "light"
          }
        },
        {
          "output_type": "stream",
          "name": "stdout",
          "text": [
            "On the train set:\n",
            "Accuracy: 0.7204301075268817\n",
            "On the test set:\n",
            "Accuracy: 0.5238095238095238\n"
          ]
        }
      ],
      "source": [
        "parameters = initialization_model(train_X, train_Y, initialization = \"zeros\")\n",
        "print (\"On the train set:\")\n",
        "predictions_train = util.predict(train_X, train_Y, parameters)\n",
        "print (\"On the test set:\")\n",
        "predictions_test = util.predict(test_X, test_Y, parameters)"
      ],
      "id": "jhI5HIr_6R1K"
    },
    {
      "cell_type": "markdown",
      "metadata": {
        "id": "2hhuTp3lTuGK"
      },
      "source": [
        "#### Random Initialization"
      ],
      "id": "2hhuTp3lTuGK"
    },
    {
      "cell_type": "code",
      "execution_count": 283,
      "metadata": {
        "id": "q3TT7x0U24_q"
      },
      "outputs": [],
      "source": [
        "# GRADED FUNCTION: initialize_parameters_random\n",
        "def initialize_parameters_random(layers_dims):\n",
        "    \"\"\"\n",
        "    Arguments:\n",
        "    layer_dims -- python array (list) containing the size of each layer.\n",
        "    \n",
        "    Returns:\n",
        "    parameters -- python dictionary containing your parameters \"W1\", \"b1\", ..., \"WL\", \"bL\":\n",
        "                    W1 -- weight matrix of shape (layers_dims[1], layers_dims[0])\n",
        "                    b1 -- bias vector of shape (layers_dims[1], 1)\n",
        "                    ...\n",
        "                    WL -- weight matrix of shape (layers_dims[L], layers_dims[L-1])\n",
        "                    bL -- bias vector of shape (layers_dims[L], 1)\n",
        "    \"\"\"\n",
        "    \n",
        "    np.random.seed(3)               # This seed makes sure your \"random\" numbers will be the as ours\n",
        "    parameters = {}\n",
        "    L = len(layers_dims)            # integer representing the number of layers\n",
        "    \n",
        "    for l in range(1, L):\n",
        "        parameters['W' + str(l)] = np.random.randn(layers_dims[l], layers_dims[l - 1]) * 10\n",
        "        parameters['b' + str(l)] = np.zeros((layers_dims[l], 1))      \n",
        "\n",
        "    return parameters"
      ],
      "id": "q3TT7x0U24_q"
    },
    {
      "cell_type": "code",
      "execution_count": 284,
      "metadata": {
        "colab": {
          "base_uri": "https://localhost:8080/",
          "height": 701
        },
        "id": "RTJquBkQHj2X",
        "outputId": "7426f902-2fdb-4cbe-dcec-02be262ca939"
      },
      "outputs": [
        {
          "output_type": "stream",
          "name": "stdout",
          "text": [
            "Cost after iteration 0: inf\n",
            "Cost after iteration 1000: 0.5937546323158847\n",
            "Cost after iteration 2000: 0.5925669282988137\n",
            "Cost after iteration 3000: 0.5925469956784013\n",
            "Cost after iteration 4000: 0.5925466447752924\n",
            "Cost after iteration 5000: 0.5925466385584568\n",
            "Cost after iteration 6000: 0.5925466384482219\n",
            "Cost after iteration 7000: 0.592546638446267\n",
            "Cost after iteration 8000: 0.5925466384462325\n",
            "Cost after iteration 9000: 0.5925466384462317\n",
            "Cost after iteration 10000: 0.5925466384462318\n",
            "Cost after iteration 11000: 0.5925466384462317\n",
            "Cost after iteration 12000: 0.5925466384462317\n",
            "Cost after iteration 13000: 0.5925466384462317\n",
            "Cost after iteration 14000: 0.5925466384462317\n"
          ]
        },
        {
          "output_type": "display_data",
          "data": {
            "text/plain": [
              "<Figure size 504x360 with 1 Axes>"
            ],
            "image/png": "[encoded data removed]"
          },
          "metadata": {
            "needs_background": "light"
          }
        },
        {
          "output_type": "stream",
          "name": "stdout",
          "text": [
            "On the train set:\n",
            "Accuracy: 0.7204301075268817\n",
            "On the test set:\n",
            "Accuracy: 0.5238095238095238\n"
          ]
        }
      ],
      "source": [
        "parameters = initialization_model(train_X, train_Y, initialization = \"random\")\n",
        "print (\"On the train set:\")\n",
        "predictions_train = util.predict(train_X, train_Y, parameters)\n",
        "print (\"On the test set:\")\n",
        "predictions_test = util.predict(test_X, test_Y, parameters)"
      ],
      "id": "RTJquBkQHj2X"
    },
    {
      "cell_type": "markdown",
      "metadata": {
        "id": "OFQ5GZ-gTw_j"
      },
      "source": [
        "#### He Initialization"
      ],
      "id": "OFQ5GZ-gTw_j"
    },
    {
      "cell_type": "code",
      "execution_count": 315,
      "metadata": {
        "id": "FgQgbwtK27fY"
      },
      "outputs": [],
      "source": [
        "# GRADED FUNCTION: initialize_parameters_he\n",
        "def initialize_parameters_he(layers_dims):\n",
        "    \"\"\"\n",
        "    Arguments:\n",
        "    layer_dims -- python array (list) containing the size of each layer.\n",
        "    \n",
        "    Returns:\n",
        "    parameters -- python dictionary containing your parameters \"W1\", \"b1\", ..., \"WL\", \"bL\":\n",
        "                    W1 -- weight matrix of shape (layers_dims[1], layers_dims[0])\n",
        "                    b1 -- bias vector of shape (layers_dims[1], 1)\n",
        "                    ...\n",
        "                    WL -- weight matrix of shape (layers_dims[L], layers_dims[L-1])\n",
        "                    bL -- bias vector of shape (layers_dims[L], 1)\n",
        "    \"\"\"\n",
        "    \n",
        "    np.random.seed(3)\n",
        "    parameters = {}\n",
        "    L = len(layers_dims) - 1 # integer representing the number of layers\n",
        "     \n",
        "    for l in range(1, L + 1):\n",
        "        parameters['W' + str(l)] = np.random.randn(layers_dims[l], layers_dims[l - 1]) * np.sqrt(2 / layers_dims[l - 1])\n",
        "        parameters['b' + str(l)] = np.zeros((layers_dims[l], 1))             \n",
        "        \n",
        "    return parameters"
      ],
      "id": "FgQgbwtK27fY"
    },
    {
      "cell_type": "code",
      "execution_count": 316,
      "metadata": {
        "colab": {
          "base_uri": "https://localhost:8080/",
          "height": 701
        },
        "id": "QNXr8A68RwAb",
        "outputId": "98feee60-409d-4e87-9f58-ae7d7456eb18"
      },
      "outputs": [
        {
          "output_type": "stream",
          "name": "stdout",
          "text": [
            "Cost after iteration 0: 10.510701917507692\n",
            "Cost after iteration 1000: 0.5937532816361997\n",
            "Cost after iteration 2000: 0.592566906210473\n",
            "Cost after iteration 3000: 0.5925469952909012\n",
            "Cost after iteration 4000: 0.5925466447684302\n",
            "Cost after iteration 5000: 0.5925466385583351\n",
            "Cost after iteration 6000: 0.5925466384482198\n",
            "Cost after iteration 7000: 0.592546638446267\n",
            "Cost after iteration 8000: 0.5925466384462322\n",
            "Cost after iteration 9000: 0.5925466384462317\n",
            "Cost after iteration 10000: 0.5925466384462317\n",
            "Cost after iteration 11000: 0.5925466384462317\n",
            "Cost after iteration 12000: 0.5925466384462317\n",
            "Cost after iteration 13000: 0.5925466384462318\n",
            "Cost after iteration 14000: 0.5925466384462317\n"
          ]
        },
        {
          "output_type": "display_data",
          "data": {
            "text/plain": [
              "<Figure size 504x360 with 1 Axes>"
            ],
            "image/png": "[encoded data removed]"
          },
          "metadata": {
            "needs_background": "light"
          }
        },
        {
          "output_type": "stream",
          "name": "stdout",
          "text": [
            "On the train set:\n",
            "Accuracy: 0.7204301075268817\n",
            "On the test set:\n",
            "Accuracy: 0.5238095238095238\n"
          ]
        }
      ],
      "source": [
        "parameters = initialization_model(train_X, train_Y, initialization = \"he\")\n",
        "print (\"On the train set:\")\n",
        "predictions_train = util.predict(train_X, train_Y, parameters)\n",
        "print (\"On the test set:\")\n",
        "predictions_test = util.predict(test_X, test_Y, parameters)"
      ],
      "id": "QNXr8A68RwAb"
    },
    {
      "cell_type": "code",
      "source": [
        "# # Plot decision boundary\n",
        "# plt.title(\"Model with Adam optimization\")\n",
        "# axes = plt.gca()\n",
        "# axes.set_xlim([-1.5,2.5])\n",
        "# axes.set_ylim([-1,1.5])\n",
        "# plot_decision_boundary(lambda x: predict_dec(parameters, x.T), train_X, train_Y)"
      ],
      "metadata": {
        "id": "K2Jbplxz_lkC"
      },
      "id": "K2Jbplxz_lkC",
      "execution_count": 287,
      "outputs": []
    },
    {
      "cell_type": "markdown",
      "metadata": {
        "id": "d0C9gt-ZdCkj"
      },
      "source": [
        "#### Comparison"
      ],
      "id": "d0C9gt-ZdCkj"
    },
    {
      "cell_type": "markdown",
      "metadata": {
        "id": "YY64OyKWTHwa"
      },
      "source": [
        "We're tried three different types of initializations. For the same number of iterations and same hyperparameters, the comparison is:\n",
        "\n",
        "<table> \n",
        "    <tr>\n",
        "        <td>\n",
        "            <b>Model</b>\n",
        "        </td>\n",
        "        <td>\n",
        "            <b>Train accuracy</b>\n",
        "        </td>\n",
        "        <td>\n",
        "            <b>Problem/Comment</b>\n",
        "        </td>\n",
        "    </tr>\n",
        "        <td>\n",
        "        3-layer NN with zeros initialization\n",
        "        </td>\n",
        "        <td>\n",
        "        72%\n",
        "        </td>\n",
        "        <td>\n",
        "        lack of diversity and a potential for vanishing gradients\n",
        "        </td>\n",
        "    <tr>\n",
        "        <td>\n",
        "        3-layer NN with large random initialization\n",
        "        </td>\n",
        "        <td>\n",
        "        72%\n",
        "        </td>\n",
        "        <td>\n",
        "        unstable and divergent behavior during training\n",
        "        </td>\n",
        "    </tr>\n",
        "    <tr>\n",
        "        <td>\n",
        "        3-layer NN with He initialization\n",
        "        </td>\n",
        "        <td>\n",
        "        73%\n",
        "        </td>\n",
        "        <td>\n",
        "        <b>allows for faster and more stable training. Recommended method. </b>\n",
        "        </td>\n",
        "    </tr>\n",
        "</table> "
      ],
      "id": "YY64OyKWTHwa"
    },
    {
      "cell_type": "markdown",
      "metadata": {
        "id": "q3PsaVrEWdlt"
      },
      "source": [
        "**Zeros initialization**: This method initializes all the weights and biases in the neural network to zero. The resulting accuracy of 70% suggests that this is not a good method for initializing the network, as all the neurons in each layer would have the same output, leading to a lack of diversity and a potential for vanishing gradients. The vanishing gradient problem occurs when the gradients of the cost function with respect to the weights in the initial layers are very small, leading to slow convergence and poor performance.\n",
        "\n",
        "**Large random initialization**: This method initializes the weights and biases in the neural network to large random values. However, the resulting accuracy of 70% suggests that the large random values may have led to the exploding gradient problem, where the gradients of the cost function with respect to the weights in the initial layers become very large, leading to unstable and divergent behavior during training.\n",
        "\n",
        "**He initialization**: This method initializes the weights and biases in the neural network using a heuristic based on the size of the previous layer. The resulting accuracy of 80% suggests that this is the most appropriate initialization method for the network, as it avoids the vanishing and exploding gradient problems and allows for faster and more stable training.\n",
        "\n",
        "**In summary**, the choice of initialization method can have a significant impact on the performance of the neural network. While zeros and large random initialization can lead to the vanishing and exploding gradient problems, respectively, He initialization can provide a good balance between stability and diversity, leading to improved accuracy."
      ],
      "id": "q3PsaVrEWdlt"
    },
    {
      "cell_type": "markdown",
      "metadata": {
        "id": "_cVjCaQQdQXG"
      },
      "source": [
        "### Regularization"
      ],
      "id": "_cVjCaQQdQXG"
    },
    {
      "cell_type": "code",
      "source": [
        "# print(train_X.shape)  # (num_samples, num_features)\n",
        "# print(train_Y.shape)  # (num_samples, num_classes)"
      ],
      "metadata": {
        "id": "zCOnMGKxoVQ8"
      },
      "id": "zCOnMGKxoVQ8",
      "execution_count": 289,
      "outputs": []
    },
    {
      "cell_type": "markdown",
      "source": [
        "We will use the following neural network (already implemented for you below). This model can be used:\n",
        "- in *regularization mode* -- by setting the `lambd` input to a non-zero value. We use \"`lambd`\" instead of \"`lambda`\" because \"`lambda`\" is a reserved keyword in Python. \n",
        "- in *dropout mode* -- by setting the `keep_prob` to a value less than one"
      ],
      "metadata": {
        "id": "PE8vRNWegHtw"
      },
      "id": "PE8vRNWegHtw"
    },
    {
      "cell_type": "code",
      "source": [
        "import reg_utils as reg"
      ],
      "metadata": {
        "id": "C1x8Lm78Gger"
      },
      "id": "C1x8Lm78Gger",
      "execution_count": 290,
      "outputs": []
    },
    {
      "cell_type": "markdown",
      "metadata": {
        "id": "KlQjsL__0H_v"
      },
      "source": [
        "#### L2 Regularization\n",
        "\n",
        "The standard way to avoid overfitting is called **L2 regularization**. It consists of appropriately modifying your cost function, from:\n",
        "$$J = -\\frac{1}{m} \\sum\\limits_{i = 1}^{m} \\large{(}\\small  y^{(i)}\\log\\left(a^{[L](i)}\\right) + (1-y^{(i)})\\log\\left(1- a^{[L](i)}\\right) \\large{)} \\tag{1}$$\n",
        "To:\n",
        "$$J_{regularized} = \\small \\underbrace{-\\frac{1}{m} \\sum\\limits_{i = 1}^{m} \\large{(}\\small y^{(i)}\\log\\left(a^{[L](i)}\\right) + (1-y^{(i)})\\log\\left(1- a^{[L](i)}\\right) \\large{)} }_\\text{cross-entropy cost} + \\underbrace{\\frac{1}{m} \\frac{\\lambda}{2} \\sum\\limits_l\\sum\\limits_k\\sum\\limits_j W_{k,j}^{[l]2} }_\\text{L2 regularization cost} \\tag{2}$$\n",
        "\n",
        "Let's modify our cost and observe the consequences.\n",
        "\n",
        "<a name='ex-1'></a>\n",
        "### compute_cost_with_regularization\n",
        "Implement `compute_cost_with_regularization()` which computes the cost given by formula (2). To calculate $\\sum\\limits_k\\sum\\limits_j W_{k,j}^{[l]2}$  , use :\n",
        "```python\n",
        "np.sum(np.square(Wl))\n",
        "```\n",
        "Note that we have to do this for $W^{[1]}$, $W^{[2]}$ and $W^{[3]}$, then sum the three terms and multiply by $ \\frac{1}{m} \\frac{\\lambda}{2} $."
      ],
      "id": "KlQjsL__0H_v"
    },
    {
      "cell_type": "code",
      "execution_count": 291,
      "metadata": {
        "id": "lgOuN5kLahOF"
      },
      "outputs": [],
      "source": [
        "def regularization_model(X, Y, learning_rate = 0.1, num_iterations = 30000, print_cost = True, lambd = 0, keep_prob = 1):\n",
        "    \"\"\"\n",
        "    Implements a three-layer neural network: LINEAR->RELU->LINEAR->RELU->LINEAR->SIGMOID.\n",
        "    \n",
        "    Arguments:\n",
        "    X -- input data, of shape (input size, number of examples)\n",
        "    Y -- true \"label\" vector (1 for blue dot / 0 for red dot), of shape (output size, number of examples)\n",
        "    learning_rate -- learning rate of the optimization\n",
        "    num_iterations -- number of iterations of the optimization loop\n",
        "    print_cost -- If True, print the cost every 10000 iterations\n",
        "    lambd -- regularization hyperparameter, scalar\n",
        "    keep_prob - probability of keeping a neuron active during drop-out, scalar.\n",
        "    \n",
        "    Returns:\n",
        "    parameters -- parameters learned by the model. They can then be used to predict.\n",
        "    \"\"\"\n",
        "        \n",
        "    grads = {}\n",
        "    costs = []                            # to keep track of the cost\n",
        "    m = X.shape[1]                        # number of examples\n",
        "    layers_dims = [X.shape[0], 10, 3, 1]\n",
        "    \n",
        "    # Initialize parameters dictionary.\n",
        "    #parameters = reg.initialize_parameters(layers_dims)\n",
        "    parameters = initialize_parameters_he(layers_dims)\n",
        "    # Loop (gradient descent)\n",
        "\n",
        "    for i in range(0, num_iterations):\n",
        "\n",
        "        # Forward propagation: LINEAR -> RELU -> LINEAR -> RELU -> LINEAR -> SIGMOID.\n",
        "        if keep_prob == 1:\n",
        "            a3, cache = reg.forward_propagation(X, parameters)\n",
        "        elif keep_prob < 1:\n",
        "            a3, cache = forward_propagation_with_dropout(X, parameters, keep_prob)\n",
        "        \n",
        "        # Cost function\n",
        "        if lambd == 0:\n",
        "            cost = reg.compute_cost(a3, Y)\n",
        "        else:\n",
        "            cost = compute_cost_with_regularization(a3, Y, parameters, lambd)\n",
        "            \n",
        "        # Backward propagation.\n",
        "        assert (lambd == 0 or keep_prob == 1)   # it is possible to use both L2 regularization and dropout, \n",
        "                                                # but this assignment will only explore one at a time\n",
        "        if lambd == 0 and keep_prob == 1:\n",
        "            grads = reg.backward_propagation(X, Y, cache)\n",
        "        elif lambd != 0:\n",
        "            grads = backward_propagation_with_regularization(X, Y, cache, lambd)\n",
        "        elif keep_prob < 1:\n",
        "            grads = backward_propagation_with_dropout(X, Y, cache, keep_prob)\n",
        "        \n",
        "        # Update parameters.\n",
        "        parameters = reg.update_parameters(parameters, grads, learning_rate)\n",
        "        \n",
        "        # Print the loss every 10000 iterations\n",
        "        if print_cost and i % 10000 == 0:\n",
        "            print(\"Cost after iteration {}: {}\".format(i, cost))\n",
        "\n",
        "        if print_cost and i % 1000 == 0:\n",
        "            costs.append(cost)\n",
        "    \n",
        "    # plot the cost\n",
        "    plt.plot(costs)\n",
        "    plt.ylabel('cost')\n",
        "    plt.xlabel('iterations (x1,000)')\n",
        "    plt.title(\"Learning rate =\" + str(learning_rate))\n",
        "    plt.show()\n",
        "    \n",
        "    return parameters, grads"
      ],
      "id": "lgOuN5kLahOF"
    },
    {
      "cell_type": "code",
      "source": [
        "# GRADED FUNCTION: compute_cost_with_regularization\n",
        "def compute_cost_with_regularization(A3, Y, parameters, lambd):\n",
        "    \"\"\"\n",
        "    Implement the cost function with L2 regularization. See formula (2) above.\n",
        "    \n",
        "    Arguments:\n",
        "    A3 -- post-activation, output of forward propagation, of shape (output size, number of examples)\n",
        "    Y -- \"true\" labels vector, of shape (output size, number of examples)\n",
        "    parameters -- python dictionary containing parameters of the model\n",
        "    \n",
        "    Returns:\n",
        "    cost - value of the regularized loss function (formula (2))\n",
        "    \"\"\"\n",
        "    m = Y.shape[1]\n",
        "    W1 = parameters[\"W1\"]\n",
        "    W2 = parameters[\"W2\"]\n",
        "    W3 = parameters[\"W3\"]\n",
        "    \n",
        "    cross_entropy_cost = reg.compute_cost(A3, Y) # This gives you the cross-entropy part of the cost\n",
        "    \n",
        "    #(≈ 1 lines of code)\n",
        "    L2_regularization_cost = lambd * (np.sum(np.square(W1)) + np.sum(np.square(W2)) + np.sum(np.square(W3))) / (2 * m)    \n",
        "\n",
        "    cost = cross_entropy_cost + L2_regularization_cost\n",
        "    \n",
        "    return cost"
      ],
      "metadata": {
        "id": "rSSkW7NpIp4_"
      },
      "id": "rSSkW7NpIp4_",
      "execution_count": 292,
      "outputs": []
    },
    {
      "cell_type": "markdown",
      "source": [
        "##### Backward Propagation"
      ],
      "metadata": {
        "id": "Uuh2UxHPd6Ro"
      },
      "id": "Uuh2UxHPd6Ro"
    },
    {
      "cell_type": "code",
      "source": [
        "# GRADED FUNCTION: backward_propagation_with_regularization\n",
        "def backward_propagation_with_regularization(X, Y, cache, lambd):\n",
        "    \"\"\"\n",
        "    Implements the backward propagation of our baseline model to which we added an L2 regularization.\n",
        "    \n",
        "    Arguments:\n",
        "    X -- input dataset, of shape (input size, number of examples)\n",
        "    Y -- \"true\" labels vector, of shape (output size, number of examples)\n",
        "    cache -- cache output from forward_propagation()\n",
        "    lambd -- regularization hyperparameter, scalar\n",
        "    \n",
        "    Returns:\n",
        "    gradients -- A dictionary with the gradients with respect to each parameter, activation and pre-activation variables\n",
        "    \"\"\"\n",
        "    \n",
        "    m = X.shape[1]\n",
        "    (Z1, A1, W1, b1, Z2, A2, W2, b2, Z3, A3, W3, b3) = cache\n",
        "    \n",
        "    dZ3 = A3 - Y\n",
        "    #(≈ 1 lines of code)  \n",
        "    dW3 = 1. / m * np.dot(dZ3, A2.T) + (lambd * W3) / m\n",
        "    db3 = 1. / m * np.sum(dZ3, axis=1, keepdims=True)\n",
        "    \n",
        "    dA2 = np.dot(W3.T, dZ3)\n",
        "    dZ2 = np.multiply(dA2, np.int64(A2 > 0))\n",
        "\n",
        "    #(≈ 1 lines of code)\n",
        "    dW2 = 1. / m * np.dot(dZ2, A1.T) + (lambd * W2) / m\n",
        "    db2 = 1. / m * np.sum(dZ2, axis=1, keepdims=True)\n",
        "    \n",
        "    dA1 = np.dot(W2.T, dZ2)\n",
        "    dZ1 = np.multiply(dA1, np.int64(A1 > 0))\n",
        "\n",
        "    #(≈ 1 lines of code)   \n",
        "    dW1 = 1. / m * np.dot(dZ1, X.T) + (lambd * W1) / m\n",
        "    db1 = 1. / m * np.sum(dZ1, axis=1, keepdims=True)\n",
        "    \n",
        "    gradients = {\"dZ3\": dZ3, \"dW3\": dW3, \"db3\": db3,\"dA2\": dA2,\n",
        "                 \"dZ2\": dZ2, \"dW2\": dW2, \"db2\": db2, \"dA1\": dA1, \n",
        "                 \"dZ1\": dZ1, \"dW1\": dW1, \"db1\": db1}\n",
        "    \n",
        "    return gradients"
      ],
      "metadata": {
        "id": "wp9x0gCjIt6k"
      },
      "id": "wp9x0gCjIt6k",
      "execution_count": 293,
      "outputs": []
    },
    {
      "cell_type": "code",
      "source": [
        "parameters, _ = regularization_model(train_X, train_Y)\n",
        "\n",
        "print (\"On the train set:\")\n",
        "predictions_train = reg.predict(train_X, train_Y, parameters)\n",
        "print (\"On the test set:\")\n",
        "predictions_test = reg.predict(test_X, test_Y, parameters)"
      ],
      "metadata": {
        "id": "8XvTYTgT3Chm",
        "colab": {
          "base_uri": "https://localhost:8080/",
          "height": 479
        },
        "outputId": "43cb4e36-6d56-47de-f902-9f5af9afe401"
      },
      "id": "8XvTYTgT3Chm",
      "execution_count": 294,
      "outputs": [
        {
          "output_type": "stream",
          "name": "stdout",
          "text": [
            "Cost after iteration 0: 10.510701917507692\n",
            "Cost after iteration 10000: 0.5925466384462317\n",
            "Cost after iteration 20000: 0.5925466384462317\n"
          ]
        },
        {
          "output_type": "display_data",
          "data": {
            "text/plain": [
              "<Figure size 504x360 with 1 Axes>"
            ],
            "image/png": "[encoded data removed]"
          },
          "metadata": {
            "needs_background": "light"
          }
        },
        {
          "output_type": "stream",
          "name": "stdout",
          "text": [
            "On the train set:\n",
            "Accuracy: 0.7204301075268817\n",
            "On the test set:\n",
            "Accuracy: 0.5238095238095238\n"
          ]
        }
      ]
    },
    {
      "cell_type": "markdown",
      "source": [
        "#### Dropout\n",
        "Finally, **dropout** is a widely used regularization technique that is specific to deep learning. \n",
        "**It randomly shuts down some neurons in each iteration.** Watch these two videos to see what this means!\n",
        "\n",
        "<!--\n",
        "To understand drop-out, consider this conversation with a friend:\n",
        "- Friend: \"Why do you need all these neurons to train your network and classify images?\". \n",
        "- You: \"Because each neuron contains a weight and can learn specific features/details/shape of an image. The more neurons I have, the more featurse my model learns!\"\n",
        "- Friend: \"I see, but are you sure that your neurons are learning different features and not all the same features?\"\n",
        "- You: \"Good point... Neurons in the same layer actually don't talk to each other. It should be definitly possible that they learn the same image features/shapes/forms/details... which would be redundant. There should be a solution.\"\n",
        "!--> \n",
        "\n",
        "\n",
        "<center>\n",
        "<video width=\"620\" height=\"440\" src=\"images/dropout1_kiank.mp4\" type=\"video/mp4\" controls>\n",
        "</video>\n",
        "</center>\n",
        "<br>\n",
        "<caption><left><font color='yellow'><b>Figure 1 </b>: <b>Drop-out on the second hidden layer.</b> <br> At each iteration, we shut down (= set to zero) each neuron of a layer with probability $1 - keep\\_prob$ or keep it with probability $keep\\_prob$ (50% here). The dropped neurons don't contribute to the training in both the forward and backward propagations of the iteration. </font></center></caption>\n",
        "\n",
        "<center>\n",
        "<video width=\"620\" height=\"440\" src=\"images/dropout2_kiank.mp4\" type=\"video/mp4\" controls>\n",
        "</video>\n",
        "</center>\n",
        "\n",
        "<caption><left><font color='yellow'><b>Figure 2</b>:<b> Drop-out on the first and third hidden layers. </b><br> $1^{st}$ layer: we shut down on average 40% of the neurons.  $3^{rd}$ layer: we shut down on average 20% of the neurons. </font></left></caption>\n",
        "\n",
        "\n",
        "When we shut some neurons down, we actually modify our model. The idea behind drop-out is that at each iteration, you train a different model that uses only a subset of our neurons. With dropout, our neurons thus become less sensitive to the activation of one other specific neuron, because that other neuron might be shut down at any time. "
      ],
      "metadata": {
        "id": "rZ0d-ec8eXEV"
      },
      "id": "rZ0d-ec8eXEV"
    },
    {
      "cell_type": "markdown",
      "source": [
        "###### Forward Propagation with Dropout\n",
        "\n",
        "Implement the forward propagation with dropout. We are using a 3 layer neural network, and will add dropout to the first and second hidden layers. We will not apply dropout to the input layer or output layer. \n",
        "\n",
        "**Instructions**:\n",
        "We would like to shut down some neurons in the first and second layers. To do that, we are going to carry out 4 Steps:\n",
        "1. In lecture, we dicussed creating a variable $d^{[1]}$ with the same shape as $a^{[1]}$ using `np.random.rand()` to randomly get numbers between 0 and 1. Here, we will use a vectorized implementation, so create a random matrix $D^{[1]} = [d^{[1](1)} d^{[1](2)} ... d^{[1](m)}] $ of the same dimension as $A^{[1]}$.\n",
        "2. Set each entry of $D^{[1]}$ to be 1 with probability (`keep_prob`), and 0 otherwise.\n",
        "\n",
        "**Hint:** Let's say that keep_prob = 0.8, which means that we want to keep about 80% of the neurons and drop out about 20% of them.  We want to generate a vector that has 1's and 0's, where about 80% of them are 1 and about 20% are 0.\n",
        "This python statement:  \n",
        "`X = (X < keep_prob).astype(int)`  \n",
        "\n",
        "is conceptually the same as this if-else statement (for the simple case of a one-dimensional array) :\n",
        "\n",
        "```\n",
        "for i,v in enumerate(x):\n",
        "    if v < keep_prob:\n",
        "        x[i] = 1\n",
        "    else: # v >= keep_prob\n",
        "        x[i] = 0\n",
        "```\n",
        "Note that the `X = (X < keep_prob).astype(int)` works with multi-dimensional arrays, and the resulting output preserves the dimensions of the input array.\n",
        "\n",
        "Also note that without using `.astype(int)`, the result is an array of booleans `True` and `False`, which Python automatically converts to 1 and 0 if we multiply it with numbers.  (However, it's better practice to convert data into the data type that we intend, so try using `.astype(int)`.)\n",
        "\n",
        "3. Set $A^{[1]}$ to $A^{[1]} * D^{[1]}$. (You are shutting down some neurons). You can think of $D^{[1]}$ as a mask, so that when it is multiplied with another matrix, it shuts down some of the values.\n",
        "4. Divide $A^{[1]}$ by `keep_prob`. By doing this you are assuring that the result of the cost will still have the same expected value as without drop-out. (This technique is also called inverted dropout.)"
      ],
      "metadata": {
        "id": "L6YVBFgafij_"
      },
      "id": "L6YVBFgafij_"
    },
    {
      "cell_type": "code",
      "source": [
        "# GRADED FUNCTION: forward_propagation_with_dropout\n",
        "\n",
        "def forward_propagation_with_dropout(X, parameters, keep_prob = 0.5):\n",
        "    \"\"\"\n",
        "    Implements the forward propagation: LINEAR -> RELU + DROPOUT -> LINEAR -> RELU + DROPOUT -> LINEAR -> SIGMOID.\n",
        "    \n",
        "    Arguments:\n",
        "    X -- input dataset, of shape (2, number of examples)\n",
        "    parameters -- python dictionary containing your parameters \"W1\", \"b1\", \"W2\", \"b2\", \"W3\", \"b3\":\n",
        "                    W1 -- weight matrix of shape (20, 2)\n",
        "                    b1 -- bias vector of shape (20, 1)\n",
        "                    W2 -- weight matrix of shape (3, 20)\n",
        "                    b2 -- bias vector of shape (3, 1)\n",
        "                    W3 -- weight matrix of shape (1, 3)\n",
        "                    b3 -- bias vector of shape (1, 1)\n",
        "    keep_prob - probability of keeping a neuron active during drop-out, scalar\n",
        "    \n",
        "    Returns:\n",
        "    A3 -- last activation value, output of the forward propagation, of shape (1,1)\n",
        "    cache -- tuple, information stored for computing the backward propagation\n",
        "    \"\"\"\n",
        "    \n",
        "    np.random.seed(1)\n",
        "    \n",
        "    # retrieve parameters\n",
        "    W1 = parameters[\"W1\"]\n",
        "    b1 = parameters[\"b1\"]\n",
        "    W2 = parameters[\"W2\"]\n",
        "    b2 = parameters[\"b2\"]\n",
        "    W3 = parameters[\"W3\"]\n",
        "    b3 = parameters[\"b3\"]\n",
        "    \n",
        "    # LINEAR -> RELU -> LINEAR -> RELU -> LINEAR -> SIGMOID\n",
        "    Z1 = np.dot(W1, X) + b1\n",
        "    A1 = relu(Z1)\n",
        "\n",
        "    #(≈ 4 lines of code)                              # Steps 1-4 below correspond to the Steps 1-4 described above. \n",
        "    D1 = np.random.rand(A1.shape[0], A1.shape[1])     # Step 1: initialize matrix D1 = np.random.rand(..., ...)\n",
        "    D1 = D1 < keep_prob                               # Step 2: convert entries of D1 to 0 or 1 (using keep_prob as the threshold)\n",
        "    A1 = A1 * D1                                      # Step 3: shut down some neurons of A1\n",
        "    A1 = A1 / keep_prob                               # Step 4: scale the value of neurons that haven't been shut down \n",
        "    \n",
        "    Z2 = np.dot(W2, A1) + b2\n",
        "    A2 = relu(Z2)\n",
        "\n",
        "    #(≈ 4 lines of code)\n",
        "     \n",
        "    D2 = np.random.rand(A2.shape[0], A2.shape[1])    # Step 1: initialize matrix D2 = np.random.rand(..., ...)\n",
        "    D2 = D2 < keep_prob                              # Step 2: convert entries of D2 to 0 or 1 (using keep_prob as the threshold)                           \n",
        "    A2 = A2 * D2                                     # Step 3: shut down some neurons of A2\n",
        "    A2 = A2 / keep_prob                              # Step 4: scale the value of neurons that haven't been shut down\n",
        "    \n",
        "    Z3 = np.dot(W3, A2) + b3\n",
        "    A3 = sigmoid(Z3)\n",
        "    \n",
        "    cache = (Z1, D1, A1, W1, b1, Z2, D2, A2, W2, b2, Z3, A3, W3, b3)\n",
        "    \n",
        "    return A3, cache"
      ],
      "metadata": {
        "id": "zRKo-FnIdtFK"
      },
      "id": "zRKo-FnIdtFK",
      "execution_count": 295,
      "outputs": []
    },
    {
      "cell_type": "code",
      "source": [
        "parameters , _ = regularization_model(train_X, train_Y, lambd = 0.7)\n",
        "print (\"On the train set:\")\n",
        "predictions_train = reg.predict(train_X, train_Y, parameters)\n",
        "print (\"On the test set:\")\n",
        "predictions_test = reg.predict(test_X, test_Y, parameters)"
      ],
      "metadata": {
        "id": "v2AJqzv-JAra",
        "colab": {
          "base_uri": "https://localhost:8080/",
          "height": 479
        },
        "outputId": "b729f1bb-37e4-4bdb-85bb-a43d523a704e"
      },
      "id": "v2AJqzv-JAra",
      "execution_count": 296,
      "outputs": [
        {
          "output_type": "stream",
          "name": "stdout",
          "text": [
            "Cost after iteration 0: 10.562925083720037\n",
            "Cost after iteration 10000: 0.5926206739811117\n",
            "Cost after iteration 20000: 0.5925466782516099\n"
          ]
        },
        {
          "output_type": "display_data",
          "data": {
            "text/plain": [
              "<Figure size 504x360 with 1 Axes>"
            ],
            "image/png": "[encoded data removed]"
          },
          "metadata": {
            "needs_background": "light"
          }
        },
        {
          "output_type": "stream",
          "name": "stdout",
          "text": [
            "On the train set:\n",
            "Accuracy: 0.7204301075268817\n",
            "On the test set:\n",
            "Accuracy: 0.5238095238095238\n"
          ]
        }
      ]
    },
    {
      "cell_type": "markdown",
      "source": [
        "##### Backward Propagation with Dropout\n",
        "\n",
        "\n",
        "Implement the backward propagation with dropout. As before, we are training a 3 layer network. Add dropout to the first and second hidden layers, using the masks $D^{[1]}$ and $D^{[2]}$ stored in the cache. \n",
        "\n",
        "**Instruction**:\n",
        "Backpropagation with dropout is actually quite easy. We will have to carry out 2 Steps:\n",
        "1. We had previously shut down some neurons during forward propagation, by applying a mask $D^{[1]}$ to `A1`. In backpropagation, we will have to shut down the same neurons, by reapplying the same mask $D^{[1]}$ to `dA1`. \n",
        "2. During forward propagation, we had divided `A1` by `keep_prob`. In backpropagation, we'll therefore have to divide `dA1` by `keep_prob` again (the calculus interpretation is that if $A^{[1]}$ is scaled by `keep_prob`, then its derivative $dA^{[1]}$ is also scaled by the same `keep_prob`)."
      ],
      "metadata": {
        "id": "8PkpTqLufpiz"
      },
      "id": "8PkpTqLufpiz"
    },
    {
      "cell_type": "code",
      "source": [
        "# GRADED FUNCTION: backward_propagation_with_dropout\n",
        "def backward_propagation_with_dropout(X, Y, cache, keep_prob):\n",
        "    \"\"\"\n",
        "    Implements the backward propagation of our baseline model to which we added dropout.\n",
        "    \n",
        "    Arguments:\n",
        "    X -- input dataset, of shape (2, number of examples)\n",
        "    Y -- \"true\" labels vector, of shape (output size, number of examples)\n",
        "    cache -- cache output from forward_propagation_with_dropout()\n",
        "    keep_prob - probability of keeping a neuron active during drop-out, scalar\n",
        "    \n",
        "    Returns:\n",
        "    gradients -- A dictionary with the gradients with respect to each parameter, activation and pre-activation variables\n",
        "    \"\"\"\n",
        "    \n",
        "    m = X.shape[1]\n",
        "    (Z1, D1, A1, W1, b1, Z2, D2, A2, W2, b2, Z3, A3, W3, b3) = cache\n",
        "    \n",
        "    dZ3 = A3 - Y\n",
        "    dW3 = 1./m * np.dot(dZ3, A2.T)\n",
        "    db3 = 1./m * np.sum(dZ3, axis=1, keepdims=True)\n",
        "    dA2 = np.dot(W3.T, dZ3)\n",
        "    #(≈ 2 lines of code)\n",
        "    dA2 = dA2 * D2                      # Step 1: Apply mask D2 to shut down the same neurons as during the forward propagation\n",
        "    dA2 = dA2 / keep_prob               # Step 2: Scale the value of neurons that haven't been shut down   \n",
        "    \n",
        "    # YOUR CODE ENDS HERE\n",
        "    dZ2 = np.multiply(dA2, np.int64(A2 > 0))\n",
        "    dW2 = 1./m * np.dot(dZ2, A1.T)\n",
        "    db2 = 1./m * np.sum(dZ2, axis=1, keepdims=True)\n",
        "    \n",
        "    dA1 = np.dot(W2.T, dZ2)\n",
        "    #(≈ 2 lines of code)\n",
        "    dA1 = dA1 * D1                      # Step 1: Apply mask D1 to shut down the same neurons as during the forward propagation\n",
        "    dA1 = dA1 / keep_prob               # Step 2: Scale the value of neurons that haven't been shut down   \n",
        "    \n",
        "    # YOUR CODE ENDS HERE\n",
        "    dZ1 = np.multiply(dA1, np.int64(A1 > 0))\n",
        "    dW1 = 1./m * np.dot(dZ1, X.T)\n",
        "    db1 = 1./m * np.sum(dZ1, axis=1, keepdims=True)\n",
        "    \n",
        "    gradients = {\"dZ3\": dZ3, \"dW3\": dW3, \"db3\": db3,\"dA2\": dA2,\n",
        "                 \"dZ2\": dZ2, \"dW2\": dW2, \"db2\": db2, \"dA1\": dA1, \n",
        "                 \"dZ1\": dZ1, \"dW1\": dW1, \"db1\": db1}\n",
        "    \n",
        "    return gradients"
      ],
      "metadata": {
        "id": "d9yyYJLvejUO"
      },
      "id": "d9yyYJLvejUO",
      "execution_count": 297,
      "outputs": []
    },
    {
      "cell_type": "code",
      "source": [
        "parameters, grads_trace  = regularization_model(train_X, train_Y, keep_prob = 0.7, learning_rate = 0.01)\n"
      ],
      "metadata": {
        "id": "20bANUBMenPY",
        "colab": {
          "base_uri": "https://localhost:8080/",
          "height": 405
        },
        "outputId": "d1dbb6a3-9568-426a-c168-88744a150328"
      },
      "id": "20bANUBMenPY",
      "execution_count": 298,
      "outputs": [
        {
          "output_type": "stream",
          "name": "stdout",
          "text": [
            "Cost after iteration 0: inf\n",
            "Cost after iteration 10000: 0.5884755372864015\n",
            "Cost after iteration 20000: 0.588409890835405\n"
          ]
        },
        {
          "output_type": "display_data",
          "data": {
            "text/plain": [
              "<Figure size 504x360 with 1 Axes>"
            ],
            "image/png": "[encoded data removed]"
          },
          "metadata": {
            "needs_background": "light"
          }
        }
      ]
    },
    {
      "cell_type": "code",
      "source": [
        "print (\"On the train set:\")\n",
        "predictions_train = reg.predict(train_X, train_Y, parameters)\n",
        "print (\"On the test set:\")\n",
        "predictions_test = reg.predict(test_X, test_Y, parameters)"
      ],
      "metadata": {
        "colab": {
          "base_uri": "https://localhost:8080/"
        },
        "id": "Svm4cXEWgrmH",
        "outputId": "cc1734e2-5e44-486e-b7d9-6deb1aef3a0f"
      },
      "id": "Svm4cXEWgrmH",
      "execution_count": 299,
      "outputs": [
        {
          "output_type": "stream",
          "name": "stdout",
          "text": [
            "On the train set:\n",
            "Accuracy: 0.7204301075268817\n",
            "On the test set:\n",
            "Accuracy: 0.5238095238095238\n"
          ]
        }
      ]
    },
    {
      "cell_type": "markdown",
      "source": [
        "#### Comparison\n",
        "\n",
        "**Here are the results of our two models**: \n",
        "\n",
        "<table> \n",
        "    <tr>\n",
        "        <td>\n",
        "        <b>model</b>\n",
        "        </td>\n",
        "        <td>\n",
        "        <b>train accuracy</b>\n",
        "        </td>\n",
        "        <td>\n",
        "        <b>test accuracy</b>\n",
        "        </td>\n",
        "    </tr>\n",
        "    <tr>\n",
        "        <td>\n",
        "        3-layer NN with L2-regularization\n",
        "        </td>\n",
        "        <td>\n",
        "        94%\n",
        "        </td>\n",
        "        <td>\n",
        "        93%\n",
        "        </td>\n",
        "    </tr>\n",
        "    <tr>\n",
        "        <td>\n",
        "        3-layer NN with dropout\n",
        "        </td>\n",
        "        <td>\n",
        "        93%\n",
        "        </td>\n",
        "        <td>\n",
        "        95%\n",
        "        </td>\n",
        "    </tr>\n",
        "</table> "
      ],
      "metadata": {
        "id": "MBGt9XyHssQK"
      },
      "id": "MBGt9XyHssQK"
    },
    {
      "cell_type": "markdown",
      "source": [
        "### Optimization Methods"
      ],
      "metadata": {
        "id": "lVYl5LR3h13s"
      },
      "id": "lVYl5LR3h13s"
    },
    {
      "cell_type": "code",
      "source": [
        "import opt_utils_v1a as opt\n",
        "import math"
      ],
      "metadata": {
        "id": "g9oyEPcAkWZw"
      },
      "id": "g9oyEPcAkWZw",
      "execution_count": 300,
      "outputs": []
    },
    {
      "cell_type": "markdown",
      "source": [
        "#### Gradient descent\n",
        "\n",
        "A simple optimization method in machine learning is gradient descent (GD). When you take gradient steps with respect to all $m$ examples on each step, it is also called Batch Gradient Descent. \n",
        "\n",
        "<a name='ex-1'></a>\n",
        "<!-- ###  update_parameters_with_gd -->\n",
        "\n",
        "Implement the gradient descent update rule. The  gradient descent rule is, for $l = 1, ..., L$: \n",
        "$$ W^{[l]} = W^{[l]} - \\alpha \\text{ } dW^{[l]} \\tag{1}$$\n",
        "$$ b^{[l]} = b^{[l]} - \\alpha \\text{ } db^{[l]} \\tag{2}$$\n",
        "\n",
        "where L is the number of layers and $\\alpha$ is the learning rate. All parameters should be stored in the `parameters` dictionary. Note that the iterator `l` starts at 1 in the `for` loop as the first parameters are $W^{[1]}$ and $b^{[1]}$. "
      ],
      "metadata": {
        "id": "yDymDaOjV7XW"
      },
      "id": "yDymDaOjV7XW"
    },
    {
      "cell_type": "code",
      "source": [
        "def update_parameters_with_gd(parameters, grads, learning_rate):\n",
        "    \"\"\"\n",
        "    Update parameters using one step of gradient descent\n",
        "    \n",
        "    Arguments:\n",
        "    parameters -- python dictionary containing your parameters to be updated:\n",
        "                    parameters['W' + str(l)] = Wl\n",
        "                    parameters['b' + str(l)] = bl\n",
        "    grads -- python dictionary containing your gradients to update each parameters:\n",
        "                    grads['dW' + str(l)] = dWl\n",
        "                    grads['db' + str(l)] = dbl\n",
        "    learning_rate -- the learning rate, scalar.\n",
        "    \n",
        "    Returns:\n",
        "    parameters -- python dictionary containing your updated parameters \n",
        "    \"\"\"\n",
        "    L = len(parameters) // 2 # number of layers in the neural networks\n",
        "\n",
        "    # Update rule for each parameter\n",
        "    for l in range(1, L + 1):\n",
        "        # (approx. 2 lines)\n",
        "        # parameters[\"W\" + str(l)] =  \n",
        "        # parameters[\"b\" + str(l)] = \n",
        "        # YOUR CODE STARTS HERE\n",
        "        \n",
        "        parameters[\"W\" + str(l)] = parameters[\"W\" + str(l)] - learning_rate * grads[\"dW\" + str(l)]\n",
        "        parameters[\"b\" + str(l)] = parameters[\"b\" + str(l)] - learning_rate * grads[\"db\" + str(l)]      \n",
        "        # YOUR CODE ENDS HERE\n",
        "    return parameters"
      ],
      "metadata": {
        "id": "XvBr9l3iWII-"
      },
      "id": "XvBr9l3iWII-",
      "execution_count": 301,
      "outputs": []
    },
    {
      "cell_type": "markdown",
      "source": [],
      "metadata": {
        "id": "LKXsjHxlV9lX"
      },
      "id": "LKXsjHxlV9lX"
    },
    {
      "cell_type": "markdown",
      "source": [
        "#### Mini-Batch Gradient Descent\n",
        "\n",
        "There are two steps:\n",
        "- **Shuffle**: Create a shuffled version of the training set (X, Y) as shown below. Each column of X and Y represents a training example. Note that the random shuffling is done synchronously between X and Y. Such that after the shuffling the $i^{th}$ column of X is the example corresponding to the $i^{th}$ label in Y. The shuffling step ensures that examples will be split randomly into different mini-batches. \n",
        "\n",
        "<!-- <img src=\"images/kiank_shuffle.png\" style=\"width:550px;height:300px;\"> -->\n",
        "\n",
        "- **Partition**: Partition the shuffled (X, Y) into mini-batches of size `mini_batch_size` (here 32). Note that the number of training examples is not always divisible by `mini_batch_size`. The last mini batch might be smaller, but you don't need to worry about this. When the final mini-batch is smaller than the full `mini_batch_size`\n",
        "\n",
        "<!-- <img src=\"images/kiank_partition.png\" style=\"width:550px;height:300px;\"> -->"
      ],
      "metadata": {
        "id": "XVeopjanh9Rg"
      },
      "id": "XVeopjanh9Rg"
    },
    {
      "cell_type": "code",
      "source": [
        "# GRADED FUNCTION: random_mini_batches\n",
        "\n",
        "def random_mini_batches(X, Y, mini_batch_size = 16, seed = 0):\n",
        "    \"\"\"\n",
        "    Creates a list of random minibatches from (X, Y)\n",
        "    \n",
        "    Arguments:\n",
        "    X -- input data, of shape (input size, number of examples)\n",
        "    Y -- true \"label\" vector (1 for blue dot / 0 for red dot), of shape (1, number of examples)\n",
        "    mini_batch_size -- size of the mini-batches, integer\n",
        "    \n",
        "    Returns:\n",
        "    mini_batches -- list of synchronous (mini_batch_X, mini_batch_Y)\n",
        "    \"\"\"\n",
        "    \n",
        "    np.random.seed(seed)            # To make your \"random\" minibatches the same as ours\n",
        "    m = X.shape[0]                  # number of training examples\n",
        "    mini_batches = []\n",
        "        \n",
        "    # Step 1: Shuffle (X, Y)\n",
        "    permutation = list(np.random.permutation(m))\n",
        "    shuffled_X = X[:, permutation]\n",
        "    shuffled_Y = Y[:, permutation].reshape((1, m))\n",
        "    \n",
        "    inc = mini_batch_size\n",
        "\n",
        "    # Step 2 - Partition (shuffled_X, shuffled_Y).\n",
        "    # Cases with a complete mini batch size only i.e each of 64 examples.\n",
        "    num_complete_minibatches = math.floor(m / mini_batch_size) # number of mini batches of size mini_batch_size in your partitionning\n",
        "    for k in range(0, num_complete_minibatches):\n",
        "        mini_batch_X = shuffled_X[:,k * mini_batch_size:(k + 1) * mini_batch_size]\n",
        "        mini_batch_Y = shuffled_Y[:,k * mini_batch_size:(k + 1) * mini_batch_size]       \n",
        "\n",
        "        mini_batch = (mini_batch_X, mini_batch_Y)\n",
        "        mini_batches.append(mini_batch)\n",
        "    \n",
        "    # For handling the end case (last mini-batch < mini_batch_size i.e less than 64)\n",
        "    if m % mini_batch_size != 0:\n",
        "        end = m - mini_batch_size * math.floor(m / mini_batch_size)\n",
        "        mini_batch_X = shuffled_X[:,num_complete_minibatches * mini_batch_size:]\n",
        "        mini_batch_Y = shuffled_Y[:,num_complete_minibatches * mini_batch_size:]       \n",
        "        mini_batch = (mini_batch_X, mini_batch_Y)\n",
        "        mini_batches.append(mini_batch)\n",
        "    \n",
        "    return mini_batches"
      ],
      "metadata": {
        "id": "SNITcr0H5v6o"
      },
      "id": "SNITcr0H5v6o",
      "execution_count": 302,
      "outputs": []
    },
    {
      "cell_type": "markdown",
      "source": [
        "#### Initialize adam\n",
        "Initialize the Adam variables $v, s$ which keep track of the past information.\n",
        "\n",
        "**Instruction**: The variables $v, s$ are python dictionaries that need to be initialized with arrays of zeros. Their keys are the same as for `grads`, that is:\n",
        "for $l = 1, ..., L$:"
      ],
      "metadata": {
        "id": "xqPXJNkGN6Yl"
      },
      "id": "xqPXJNkGN6Yl"
    },
    {
      "cell_type": "code",
      "source": [
        "# GRADED FUNCTION: initialize_adam\n",
        "\n",
        "def initialize_adam(parameters) :\n",
        "    \"\"\"\n",
        "    Initializes v and s as two python dictionaries with:\n",
        "                - keys: \"dW1\", \"db1\", ..., \"dWL\", \"dbL\" \n",
        "                - values: numpy arrays of zeros of the same shape as the corresponding gradients/parameters.\n",
        "    \n",
        "    Arguments:\n",
        "    parameters -- python dictionary containing your parameters.\n",
        "                    parameters[\"W\" + str(l)] = Wl\n",
        "                    parameters[\"b\" + str(l)] = bl\n",
        "    \n",
        "    Returns: \n",
        "    v -- python dictionary that will contain the exponentially weighted average of the gradient. Initialized with zeros.\n",
        "                    v[\"dW\" + str(l)] = ...\n",
        "                    v[\"db\" + str(l)] = ...\n",
        "    s -- python dictionary that will contain the exponentially weighted average of the squared gradient. Initialized with zeros.\n",
        "                    s[\"dW\" + str(l)] = ...\n",
        "                    s[\"db\" + str(l)] = ...\n",
        "\n",
        "    \"\"\"\n",
        "    \n",
        "    L = len(parameters) // 2 # number of layers in the neural networks\n",
        "    v = {}\n",
        "    s = {}\n",
        "    \n",
        "    # Initialize v, s. Input: \"parameters\". Outputs: \"v, s\".\n",
        "    for l in range(1, L + 1):\n",
        "        v[\"dW\" + str(l)] = np.zeros_like(parameters[\"W\" + str(l)])\n",
        "        v[\"db\" + str(l)] = np.zeros_like(parameters[\"b\" + str(l)])\n",
        "\n",
        "        s[\"dW\" + str(l)] = np.zeros_like(parameters[\"W\" + str(l)])\n",
        "        s[\"db\" + str(l)] = np.zeros_like(parameters[\"b\" + str(l)])\n",
        "    \n",
        "    return v, s"
      ],
      "metadata": {
        "id": "ElsHaId85dKG"
      },
      "id": "ElsHaId85dKG",
      "execution_count": 303,
      "outputs": []
    },
    {
      "cell_type": "markdown",
      "source": [
        "#### Update parameters with Adam\n",
        "\n",
        "Now, implement the parameters update with Adam. Recall the general update rule is, for $l = 1, ..., L$: \n",
        "\n",
        "$$\\begin{cases}\n",
        "v_{dW^{[l]}} = \\beta_1 v_{dW^{[l]}} + (1 - \\beta_1) \\frac{\\partial \\mathcal{J} }{ \\partial W^{[l]} } \\\\\n",
        "v^{corrected}_{dW^{[l]}} = \\frac{v_{dW^{[l]}}}{1 - (\\beta_1)^t} \\\\\n",
        "s_{dW^{[l]}} = \\beta_2 s_{dW^{[l]}} + (1 - \\beta_2) (\\frac{\\partial \\mathcal{J} }{\\partial W^{[l]} })^2 \\\\\n",
        "s^{corrected}_{dW^{[l]}} = \\frac{s_{dW^{[l]}}}{1 - (\\beta_2)^t} \\\\\n",
        "W^{[l]} = W^{[l]} - \\alpha \\frac{v^{corrected}_{dW^{[l]}}}{\\sqrt{s^{corrected}_{dW^{[l]}}} + \\varepsilon}\n",
        "\\end{cases}$$\n",
        "\n",
        "\n",
        "**Note** that the iterator `l` starts at 1 in the `for` loop as the first parameters are $W^{[1]}$ and $b^{[1]}$. "
      ],
      "metadata": {
        "id": "y4QZ2rKxOeo1"
      },
      "id": "y4QZ2rKxOeo1"
    },
    {
      "cell_type": "code",
      "source": [
        "# GRADED FUNCTION: update_parameters_with_adam\n",
        "def update_parameters_with_adam(parameters, grads, v, s, t, learning_rate = 0.01,\n",
        "                                beta1 = 0.9, beta2 = 0.999,  epsilon = 1e-8):\n",
        "    \"\"\"\n",
        "    Update parameters using Adam\n",
        "    \n",
        "    Arguments:\n",
        "    parameters -- python dictionary containing your parameters:\n",
        "                    parameters['W' + str(l)] = Wl\n",
        "                    parameters['b' + str(l)] = bl\n",
        "    grads -- python dictionary containing your gradients for each parameters:\n",
        "                    grads['dW' + str(l)] = dWl\n",
        "                    grads['db' + str(l)] = dbl\n",
        "    v -- Adam variable, moving average of the first gradient, python dictionary\n",
        "    s -- Adam variable, moving average of the squared gradient, python dictionary\n",
        "    t -- Adam variable, counts the number of taken steps\n",
        "    learning_rate -- the learning rate, scalar.\n",
        "    beta1 -- Exponential decay hyperparameter for the first moment estimates \n",
        "    beta2 -- Exponential decay hyperparameter for the second moment estimates \n",
        "    epsilon -- hyperparameter preventing division by zero in Adam updates\n",
        "\n",
        "    Returns:\n",
        "    parameters -- python dictionary containing your updated parameters \n",
        "    v -- Adam variable, moving average of the first gradient, python dictionary\n",
        "    s -- Adam variable, moving average of the squared gradient, python dictionary\n",
        "    \"\"\"\n",
        "    \n",
        "    L = len(parameters) // 2                 # number of layers in the neural networks\n",
        "    v_corrected = {}                         # Initializing first moment estimate, python dictionary\n",
        "    s_corrected = {}                         # Initializing second moment estimate, python dictionary\n",
        "    \n",
        "    # Perform Adam update on all parameters\n",
        "    for l in range(1, L + 1):\n",
        "        # Moving average of the gradients. Inputs: \"v, grads, beta1\". Output: \"v\".\n",
        "        v[\"dW\" + str(l)] = beta1 * v[\"dW\" + str(l)] + (1 - beta1) * grads['dW' + str(l)]\n",
        "        v[\"db\" + str(l)] = beta1 * v[\"db\" + str(l)] + (1 - beta1) * grads['db' + str(l)]       \n",
        "\n",
        "        # Compute bias-corrected first moment estimate. Inputs: \"v, beta1, t\". Output: \"v_corrected\".\n",
        "        v_corrected[\"dW\" + str(l)] = v[\"dW\" + str(l)] / (1 - np.power(beta1, t))\n",
        "        v_corrected[\"db\" + str(l)] = v[\"db\" + str(l)] / (1 - np.power(beta1, t))   \n",
        "\n",
        "        # Moving average of the squared gradients. Inputs: \"s, grads, beta2\". Output: \"s\".\n",
        "        s[\"dW\" + str(l)] = beta2 * s[\"dW\" + str(l)] + (1 - beta2) * np.power(grads['dW' + str(l)], 2)\n",
        "        s[\"db\" + str(l)] = beta2 * s[\"db\" + str(l)] + (1 - beta2) * np.power(grads['db' + str(l)], 2)\n",
        "\n",
        "        # Compute bias-corrected second raw moment estimate. Inputs: \"s, beta2, t\". Output: \"s_corrected\".\n",
        "        s_corrected[\"dW\" + str(l)] = s[\"dW\" + str(l)] / (1 - np.power(beta2, t))\n",
        "        s_corrected[\"db\" + str(l)] = s[\"db\" + str(l)] / (1 - np.power(beta2, t))\n",
        "   \n",
        "\n",
        "        # Update parameters. Inputs: \"parameters, learning_rate, v_corrected, s_corrected, epsilon\". Output: \"parameters\".\n",
        "        parameters[\"W\" + str(l)] = parameters[\"W\" + str(l)] - learning_rate * v_corrected[\"dW\" + str(l)] / (np.sqrt(s_corrected[\"dW\" + str(l)]) + epsilon)\n",
        "        parameters[\"b\" + str(l)] = parameters[\"b\" + str(l)] - learning_rate * v_corrected[\"db\" + str(l)] / (np.sqrt(s_corrected[\"db\" + str(l)]) + epsilon)  \n",
        "        \n",
        "\n",
        "    return parameters, v, s, v_corrected, s_corrected"
      ],
      "metadata": {
        "id": "bmA8QZnI5jJN"
      },
      "id": "bmA8QZnI5jJN",
      "execution_count": 304,
      "outputs": []
    },
    {
      "cell_type": "markdown",
      "source": [
        "#### Model with Optimization algorithms\n",
        "We'll train it with: \n",
        "</br>**Mini-batch Adam**: it will call your functions:\n",
        "***initialize_adam()*** and ***update_parameters_with_adam()***"
      ],
      "metadata": {
        "id": "4fqDe7eFOzo4"
      },
      "id": "4fqDe7eFOzo4"
    },
    {
      "cell_type": "code",
      "source": [
        "def optimization_model(X, Y, layers_dims, optimizer, learning_rate = 0.0005, mini_batch_size = 16, beta = 0.9,\n",
        "          beta1 = 0.9, beta2 = 0.999,  epsilon = 1e-8, num_epochs = 5000, print_cost = True):\n",
        "    \"\"\"\n",
        "    3-layer neural network model which can be run in different optimizer modes.\n",
        "    \n",
        "    Arguments:\n",
        "    X -- input data, of shape (2, number of examples)\n",
        "    Y -- true \"label\" vector (1 for blue dot / 0 for red dot), of shape (1, number of examples)\n",
        "    optimizer -- the optimizer to be passed, gradient descent, momentum or adam\n",
        "    layers_dims -- python list, containing the size of each layer\n",
        "    learning_rate -- the learning rate, scalar.\n",
        "    mini_batch_size -- the size of a mini batch\n",
        "    beta -- Momentum hyperparameter\n",
        "    beta1 -- Exponential decay hyperparameter for the past gradients estimates \n",
        "    beta2 -- Exponential decay hyperparameter for the past squared gradients estimates \n",
        "    epsilon -- hyperparameter preventing division by zero in Adam updates\n",
        "    num_epochs -- number of epochs\n",
        "    print_cost -- True to print the cost every 1000 epochs\n",
        "\n",
        "    Returns:\n",
        "    parameters -- python dictionary containing your updated parameters \n",
        "    \"\"\"\n",
        "\n",
        "    L = len(layers_dims)             # number of layers in the neural networks\n",
        "    costs = []                       # to keep track of the cost\n",
        "    t = 0                            # initializing the counter required for Adam update\n",
        "    seed = 10                        # For grading purposes, so that your \"random\" minibatches are the same as ours\n",
        "    m = X.shape[1]                   # number of training examples\n",
        "    \n",
        "    # Initialize parameters\n",
        "    parameters = opt.initialize_parameters(layers_dims)\n",
        "\n",
        "    # Initialize the optimizer\n",
        "    if optimizer == \"gd\":\n",
        "        pass # no initialization required for gradient descent\n",
        "    elif optimizer == \"momentum\":\n",
        "        v = {}  # let ignore this line\n",
        "       # v = initialize_velocity(parameters)\n",
        "    elif optimizer == \"adam\":\n",
        "        v, s = initialize_adam(parameters)\n",
        "    \n",
        "    # Optimization loop\n",
        "    for i in range(num_epochs):\n",
        "        \n",
        "        # Define the random minibatches. We increment the seed to reshuffle differently the dataset after each epoch\n",
        "        seed = seed + 1\n",
        "        minibatches = random_mini_batches(X, Y, mini_batch_size, seed)\n",
        "        cost_total = 0\n",
        "        \n",
        "        for minibatch in minibatches:\n",
        "\n",
        "            # Select a minibatch\n",
        "            (minibatch_X, minibatch_Y) = minibatch\n",
        "\n",
        "            # Forward propagation\n",
        "            a3, caches = opt.forward_propagation(minibatch_X, parameters)\n",
        "\n",
        "            # Compute cost and add to the cost total\n",
        "            cost_total += opt.compute_cost(a3, minibatch_Y)\n",
        "\n",
        "            # Backward propagation\n",
        "            grads = opt.backward_propagation(minibatch_X, minibatch_Y, caches)\n",
        "\n",
        "            # Update parameters\n",
        "            if optimizer == \"gd\":\n",
        "                parameters = update_parameters_with_gd(parameters, grads, learning_rate) # let ignore this line\n",
        "            elif optimizer == \"momentum\":\n",
        "                parameters , v = {}, {}  # let ignore this line\n",
        "                #parameters, v = opt.update_parameters_with_momentum(parameters, grads, v, beta, learning_rate)\n",
        "            elif optimizer == \"adam\":\n",
        "                t = t + 1 # Adam counter\n",
        "                parameters, v, s, _, _ = update_parameters_with_adam(parameters, grads, v, s,\n",
        "                                                               t, learning_rate, beta1, beta2,  epsilon)\n",
        "        cost_avg = cost_total / m\n",
        "        \n",
        "        # Print the cost every 1000 epoch\n",
        "        if print_cost and i % 1000 == 0:\n",
        "            print (\"Cost after epoch %i: %f\" %(i, cost_avg))\n",
        "        if print_cost and i % 100 == 0:\n",
        "            costs.append(cost_avg)\n",
        "                \n",
        "    # plot the cost\n",
        "    plt.plot(costs)\n",
        "    plt.ylabel('cost')\n",
        "    plt.xlabel('epochs (per 100)')\n",
        "    plt.title(\"Learning rate = \" + str(learning_rate))\n",
        "    plt.show()\n",
        "\n",
        "    return parameters"
      ],
      "metadata": {
        "id": "Jgx1L5nm1Z0u"
      },
      "id": "Jgx1L5nm1Z0u",
      "execution_count": 305,
      "outputs": []
    },
    {
      "cell_type": "code",
      "source": [
        "\n",
        "_x = x_train.values.reshape(x_train.shape[0], -1)\n",
        "_y = train_Y\n",
        "\n",
        "_x_test = x_test.values.reshape(x_test.shape[0], -1)\n",
        "_y_test = test_Y\n"
      ],
      "metadata": {
        "id": "fPdiAbz_k0rd"
      },
      "id": "fPdiAbz_k0rd",
      "execution_count": 306,
      "outputs": []
    },
    {
      "cell_type": "code",
      "source": [
        "# print(_x.shape)\n",
        "# print(_y.shape)\n",
        "# print(_x.T)\n",
        "# print(_y)"
      ],
      "metadata": {
        "id": "4J6F6ztMk4mV"
      },
      "id": "4J6F6ztMk4mV",
      "execution_count": 307,
      "outputs": []
    },
    {
      "cell_type": "markdown",
      "source": [
        "##### Mini-Batch Gradient Descent"
      ],
      "metadata": {
        "id": "3fC3O7mzWt2w"
      },
      "id": "3fC3O7mzWt2w"
    },
    {
      "cell_type": "code",
      "source": [
        "layers_dims = [train_X.shape[0], 10, 3, 1]\n",
        "parameters = optimization_model(_x.T, _y, layers_dims, optimizer = \"gd\")\n",
        "\n",
        "# Predict\n",
        "predictions = opt.predict(_x.T, _y, parameters)"
      ],
      "metadata": {
        "colab": {
          "base_uri": "https://localhost:8080/",
          "height": 461
        },
        "id": "scOCMTuAWsuy",
        "outputId": "377b3c9f-6836-40db-934b-807cdaca0c68"
      },
      "id": "scOCMTuAWsuy",
      "execution_count": 308,
      "outputs": [
        {
          "output_type": "stream",
          "name": "stdout",
          "text": [
            "Cost after epoch 0: 0.241921\n",
            "Cost after epoch 1000: 0.000005\n",
            "Cost after epoch 2000: 0.000002\n",
            "Cost after epoch 3000: 0.000002\n",
            "Cost after epoch 4000: 0.000001\n"
          ]
        },
        {
          "output_type": "display_data",
          "data": {
            "text/plain": [
              "<Figure size 504x360 with 1 Axes>"
            ],
            "image/png": "[encoded data removed]"
          },
          "metadata": {
            "needs_background": "light"
          }
        },
        {
          "output_type": "stream",
          "name": "stdout",
          "text": [
            "Accuracy: 0.7204301075268817\n"
          ]
        }
      ]
    },
    {
      "cell_type": "markdown",
      "source": [
        "##### Mini-Batch with Adam"
      ],
      "metadata": {
        "id": "yTJ4nMwAW5Fs"
      },
      "id": "yTJ4nMwAW5Fs"
    },
    {
      "cell_type": "code",
      "source": [
        "# train 3-layer model\n",
        "layers_dims = [train_X.shape[0], 10, 3, 1]\n",
        "parameters = optimization_model(_x.T, _y, layers_dims, optimizer = \"adam\")\n",
        "\n",
        "# Predict\n",
        "predictions = opt.predict(train_X, train_Y, parameters)\n"
      ],
      "metadata": {
        "id": "xPih4bzm1Ug5",
        "colab": {
          "base_uri": "https://localhost:8080/",
          "height": 461
        },
        "outputId": "174ec101-1f2f-4eaa-e0d7-353a40695dca"
      },
      "id": "xPih4bzm1Ug5",
      "execution_count": 309,
      "outputs": [
        {
          "output_type": "stream",
          "name": "stdout",
          "text": [
            "Cost after epoch 0: 0.241921\n",
            "Cost after epoch 1000: 0.008465\n",
            "Cost after epoch 2000: 0.006269\n",
            "Cost after epoch 3000: 0.004559\n",
            "Cost after epoch 4000: 0.003305\n"
          ]
        },
        {
          "output_type": "display_data",
          "data": {
            "text/plain": [
              "<Figure size 504x360 with 1 Axes>"
            ],
            "image/png": "[encoded data removed]"
          },
          "metadata": {
            "needs_background": "light"
          }
        },
        {
          "output_type": "stream",
          "name": "stdout",
          "text": [
            "Accuracy: 0.7204301075268817\n"
          ]
        }
      ]
    },
    {
      "cell_type": "markdown",
      "source": [
        "#### Comparison\n",
        "\n",
        "**Here are the results of our two models**: \n",
        "\n",
        "<table> \n",
        "    <tr>\n",
        "        <td>\n",
        "        <b>optimization method</b>\n",
        "        </td>\n",
        "        <td>\n",
        "        <b>accuracy</b>\n",
        "        </td>\n",
        "        <td>\n",
        "        <b>cost shape</b>\n",
        "        </td>\n",
        "    </tr>\n",
        "        <td>\n",
        "        Gradient descent\n",
        "        </td>\n",
        "        <td>\n",
        "        72%\n",
        "        </td>\n",
        "        <td>\n",
        "        smooth\n",
        "        </td>    \n",
        "    <tr>\n",
        "        <td>\n",
        "        Adam\n",
        "        </td>\n",
        "        <td>\n",
        "        72%\n",
        "        </td>\n",
        "        <td>\n",
        "        smoother\n",
        "        </td>\n",
        "    </tr>\n",
        "</table> "
      ],
      "metadata": {
        "id": "PvbxgkBcVS5M"
      },
      "id": "PvbxgkBcVS5M"
    },
    {
      "cell_type": "code",
      "source": [
        "# Plot decision boundary\n",
        "# plt.title(\"Model with Adam optimization\")\n",
        "# axes = plt.gca()\n",
        "# axes.set_xlim([-1.5,2.5])\n",
        "# axes.set_ylim([-1,1.5])\n",
        "# print (\"On the test set:\")\n",
        "# predictions_test = reg.predict(_x_test, _y_test, parameters)"
      ],
      "metadata": {
        "id": "alizOKrm2uRU"
      },
      "id": "alizOKrm2uRU",
      "execution_count": 310,
      "outputs": []
    },
    {
      "cell_type": "code",
      "source": [
        "# plot_decision_boundary(lambda x: predict_dec(parameters, x.T), _x.T, _y)"
      ],
      "metadata": {
        "id": "6z4RQTC02Tjy"
      },
      "id": "6z4RQTC02Tjy",
      "execution_count": 311,
      "outputs": []
    },
    {
      "cell_type": "code",
      "source": [
        "# from keras.models import Sequential\n",
        "# from keras.layers import Dense\n",
        "# from keras.callbacks import EarlyStopping\n",
        "\n",
        "# # Khởi tạo mô hình neural network\n",
        "# model = Sequential()\n",
        "# model.add(Dense(32, input_dim=8, activation='relu'))\n",
        "# model.add(Dense(16, activation='relu'))\n",
        "# model.add(Dense(1, activation='sigmoid'))\n",
        "\n",
        "# # # Biên dịch mô hình với loss function và optimizer\n",
        "# model.compile(loss='binary_crossentropy', optimizer='adam', metrics=['accuracy'])\n",
        "\n",
        "# # Khởi tạo early stopping\n",
        "# early_stop = EarlyStopping(monitor='val_loss', patience=5)\n",
        "\n",
        "\n",
        "# _x = x_train.values.reshape(x_train.shape[0], -1)\n",
        "# _y = train_Y\n",
        "\n",
        "# _x_test = x_test.values.reshape(x_test.shape[0], -1)\n",
        "# _y_test = test_Y\n",
        "\n",
        "# # Huấn luyện mô hình với early stopping\n",
        "# history = model.fit(_x, _y, validation_data=(_x_test, _y_test), epochs=100, batch_size=32, callbacks=[early_stop])"
      ],
      "metadata": {
        "id": "qsB9WzMdipiV"
      },
      "id": "qsB9WzMdipiV",
      "execution_count": 312,
      "outputs": []
    },
    {
      "cell_type": "markdown",
      "source": [
        "## Logistic Regression"
      ],
      "metadata": {
        "id": "B8_WvcoqTeJ2"
      },
      "id": "B8_WvcoqTeJ2"
    },
    {
      "cell_type": "markdown",
      "source": [
        "We just apply to another solution in order to compare with Neural Network Model"
      ],
      "metadata": {
        "id": "joOR8yHwbEcb"
      },
      "id": "joOR8yHwbEcb"
    },
    {
      "cell_type": "code",
      "source": [
        "from sklearn.linear_model import LogisticRegression\n",
        "from sklearn.metrics import confusion_matrix,accuracy_score,classification_report\n",
        "\n",
        "\n",
        "log_reg = LogisticRegression()\n",
        "log_reg.fit(x_train,y_train)\n",
        "\n",
        "y_pred = log_reg.predict(x_test)\n",
        "print(y_pred)\n",
        "\n",
        "con_mat = confusion_matrix(y_test,y_pred)\n",
        "print(con_mat)\n",
        "\n",
        "accuracy = accuracy_score(y_test,y_pred)\n",
        "print(accuracy)"
      ],
      "metadata": {
        "colab": {
          "base_uri": "https://localhost:8080/"
        },
        "id": "DF0aBhFjUi6O",
        "outputId": "e553d5d5-ebd7-4a59-f5ab-c13d7fafd14c"
      },
      "id": "DF0aBhFjUi6O",
      "execution_count": 313,
      "outputs": [
        {
          "output_type": "stream",
          "name": "stdout",
          "text": [
            "[0 1 0 0 1 1 1 1 0 0 0 1 1 1 1 1 1 1 1 1 1]\n",
            "[[ 5  5]\n",
            " [ 1 10]]\n",
            "0.7142857142857143\n"
          ]
        }
      ]
    },
    {
      "cell_type": "code",
      "source": [
        "print(classification_report(y_test,y_pred))"
      ],
      "metadata": {
        "colab": {
          "base_uri": "https://localhost:8080/"
        },
        "id": "62tWSXeeUmAC",
        "outputId": "73512efb-da5b-4413-a9cb-419e38e30884"
      },
      "id": "62tWSXeeUmAC",
      "execution_count": 314,
      "outputs": [
        {
          "output_type": "stream",
          "name": "stdout",
          "text": [
            "              precision    recall  f1-score   support\n",
            "\n",
            "           0       0.83      0.50      0.62        10\n",
            "           1       0.67      0.91      0.77        11\n",
            "\n",
            "    accuracy                           0.71        21\n",
            "   macro avg       0.75      0.70      0.70        21\n",
            "weighted avg       0.75      0.71      0.70        21\n",
            "\n"
          ]
        }
      ]
    },
    {
      "cell_type": "markdown",
      "metadata": {
        "id": "Q1xKJcQJG2ZF"
      },
      "source": [
        "# Inclusion"
      ],
      "id": "Q1xKJcQJG2ZF"
    },
    {
      "cell_type": "markdown",
      "metadata": {
        "id": "688ff921"
      },
      "source": [],
      "id": "688ff921"
    }
  ],
  "metadata": {
    "colab": {
      "provenance": [],
      "toc_visible": true,
      "include_colab_link": true
    },
    "kernelspec": {
      "display_name": "Python 3",
      "language": "python",
      "name": "python3"
    },
    "language_info": {
      "codemirror_mode": {
        "name": "ipython",
        "version": 3
      },
      "file_extension": ".py",
      "mimetype": "text/x-python",
      "name": "python",
      "nbconvert_exporter": "python",
      "pygments_lexer": "ipython3",
      "version": "3.7.12"
    },
    "papermill": {
      "default_parameters": {},
      "duration": 18.48237,
      "end_time": "2023-02-07T18:43:13.916527",
      "environment_variables": {},
      "exception": null,
      "input_path": "__notebook__.ipynb",
      "output_path": "__notebook__.ipynb",
      "parameters": {},
      "start_time": "2023-02-07T18:42:55.434157",
      "version": "2.3.4"
    }
  },
  "nbformat": 4,
  "nbformat_minor": 5
}